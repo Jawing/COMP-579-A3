{
 "cells": [
  {
   "cell_type": "code",
   "execution_count": 1,
   "metadata": {},
   "outputs": [],
   "source": [
    "from __future__ import annotations\n",
    "\n",
    "#import essential functions\n",
    "import numpy as np\n",
    "import matplotlib.pyplot as plt\n",
    "import time\n",
    "import random\n",
    "import gymnasium as gym\n",
    "\n",
    "import torch\n",
    "import torch.nn as nn\n",
    "from torch import optim\n",
    "from tqdm import tqdm\n",
    "\n",
    "device = torch.device(\"cuda\" if torch.cuda.is_available() else \"cpu\")\n",
    "\n",
    "#set all random seeds\n",
    "seed = 42\n",
    "np.random.seed(seed)\n",
    "random.seed(seed)\n",
    "\n",
    "# Small epsilon value for stabilizing division operations\n",
    "eps = np.finfo(np.float32).eps.item()\n",
    "\n",
    "import os\n",
    "os.environ['PYDEVD_WARN_SLOW_RESOLVE_TIMEOUT'] = '2.0'  # set timeout to 2 seconds"
   ]
  },
  {
   "attachments": {},
   "cell_type": "markdown",
   "metadata": {},
   "source": [
    "# Assignment 3\n",
    "Student Name: Ji Zhou Wang\n",
    "Student ID: 260518646\n",
    "\n",
    "Student Name:\n",
    "Student ID:\n",
    "\n",
    "Student Name:\n",
    "Student ID:"
   ]
  },
  {
   "attachments": {},
   "cell_type": "markdown",
   "metadata": {},
   "source": [
    "# Useful classes and functions"
   ]
  },
  {
   "cell_type": "code",
   "execution_count": 2,
   "metadata": {},
   "outputs": [],
   "source": [
    "from sklearn.linear_model import LogisticRegression\n",
    "\n",
    "#define epsilon-greedy policy\n",
    "def epsilon_greedy(QF, state, num_actions, epsilon):\n",
    "    if np.random.uniform() < epsilon:\n",
    "        # Choose a random action with probability epsilon\n",
    "        return np.random.choice(num_actions)\n",
    "    else:\n",
    "        # Choose the action with highest Q-value for the current state\n",
    "        #check if QF is a torch neural network, if so retrun the index of the max value given the state\n",
    "        if isinstance(QF, torch.nn.modules.module.Module):\n",
    "            return torch.argmax(QF(torch.tensor(state).float().to(device))).item()\n",
    "        #else if QF is a sklearn logistic regression model, if so retrun the index of the max value given the state\n",
    "        elif isinstance(QF, LogisticRegression):\n",
    "            return np.argmax(QF.predict_proba([state]))\n",
    "        else:\n",
    "            #else return the index of the max value given the state in QF table\n",
    "            return np.argmax(QF[state, :])\n",
    "\n",
    "#define uniform random policy\n",
    "def uniform_random(num_actions):\n",
    "    return np.random.choice(num_actions)\n",
    "\n",
    "#define softmax boltzmann policy\n",
    "def softmax_boltzmann(Q, state, num_actions, temperature):\n",
    "    # Calculate the probabilities using the softmax function\n",
    "    probs = softmax(Q[state, :] / temperature)\n",
    "    # Choose an action using the calculated probabilities\n",
    "    return np.random.choice(num_actions, p=probs)\n",
    "\n",
    "# Define the softmax function prevent overflow\n",
    "def softmax(x):\n",
    "    e_x = np.exp(x - np.max(x))\n",
    "    return e_x / e_x.sum()\n"
   ]
  },
  {
   "cell_type": "code",
   "execution_count": 3,
   "metadata": {},
   "outputs": [],
   "source": [
    "#OneHotEncoder for state and action function approximation representation\n",
    "#Also includes Q-learning algorithm with epsilon greedy policy\n",
    "class OneHotFA:\n",
    "    def __init__(self, env, num_bins, actor_weights = None, critic_weights = None):\n",
    "        self.env = env\n",
    "        self.num_bins = num_bins\n",
    "        self.num_states = env.observation_space.shape[0]\n",
    "        self.num_actions = env.action_space.n\n",
    "        self.bins = self.get_bins()\n",
    "        self.num_features = self.num_bins ** self.num_states\n",
    "        self.init_actor_weights = actor_weights\n",
    "        self.init_critic_weights = critic_weights\n",
    "        if actor_weights is None: \n",
    "            #intialize the starting weights randomly between -0.001 and 0.001 for each feature and action\n",
    "            self.actor_weights = np.random.uniform(-0.001, 0.001, (self.num_features, self.num_actions))\n",
    "        else:\n",
    "            self.actor_weights = actor_weights\n",
    "        \n",
    "        if critic_weights is None:\n",
    "            #initialize critic weights\n",
    "            self.critic_weights = np.random.uniform(-0.001, 0.001, self.num_features)\n",
    "        else:\n",
    "            self.critic_weights = critic_weights\n",
    "\n",
    "    #print all the parameters of the class\n",
    "    def print_params(self):\n",
    "        print(\"num_bins: \" + str(self.num_bins))\n",
    "        print(\"num_states: \" + str(self.num_states))\n",
    "        print(\"num_actions: \" + str(self.num_actions))\n",
    "        print(\"bins: \" + str(self.bins))\n",
    "        print(\"num_features: \" + str(self.num_features))\n",
    "        print(\"weights: \" + str(self.actor_weights))\n",
    "        print(\"critic_weights: \" + str(self.critic_weights))\n",
    "\n",
    "    #get the bins for each state\n",
    "    def get_bins(self):\n",
    "        # compute the bin sizes for position and angle\n",
    "        # cart_pos_binsize = (self.env.observation_space.high[0] - self.env.observation_space.low[0]) / self.num_bins\n",
    "        # pole_angle_binsize = (self.env.observation_space.high[2] - self.env.observation_space.low[2]) / self.num_bins\n",
    "\n",
    "        cart_pos_bin = np.linspace(self.env.observation_space.low[0], self.env.observation_space.high[0], self.num_bins+1)\n",
    "        pole_angle_bin = np.linspace(self.env.observation_space.low[2], self.env.observation_space.high[2], self.num_bins+1)\n",
    "        # compute the bins for cart velocity and pole angle velocity\n",
    "        # calculated from sampling experiment (sd/3)\n",
    "        cart_vel_bin = [-np.inf, -0.62, -0.46, -0.31, -0.15, 0.0, 0.15, 0.31, 0.46, 0.62, np.inf]\n",
    "        pole_vel_bin = [-np.inf, -0.99, -0.74, -0.49, -0.24, 0.0, 0.24, 0.49, 0.74, 0.99, np.inf]\n",
    "\n",
    "        #(sd/2)\n",
    "        #cart_vel_bin = [-np.inf, -0.93, -0.70, -0.46, -0.23, 0.0, 0.23, 0.46, 0.70, 0.93, np.inf]\n",
    "        #pole_vel_bin = [-np.inf, -1.49, -1.11, -0.74, -0.37, 0.0, 0.37, 0.74, 1.11, 1.49, np.inf]\n",
    "\n",
    "\n",
    "        #combine all bins into one array\n",
    "        bins = np.array([cart_pos_bin, cart_vel_bin, pole_angle_bin, pole_vel_bin])\n",
    "        # print(\"bins: \" + str(type(bins)) + \" \" + str(bins.shape))\n",
    "        # print(\"bins: \" + str(bins))\n",
    "        return bins\n",
    "    \n",
    "    #discretize the input state into a one-hot vector of length num_features for each bin in the bins array corresponding to the state value\n",
    "    def discretize_state(self, state):\n",
    "        state_discrete = np.zeros(self.num_features)\n",
    "\n",
    "        #compute the indices of the bin for each state value\n",
    "        state_indices = self.get_state_indices(state)\n",
    "        \n",
    "        #compute the index of the overall state vector\n",
    "        state_index = 0\n",
    "        for i in range(self.num_states):\n",
    "            state_index += (state_indices[i] - 1) * (self.num_bins ** i)\n",
    "        \n",
    "        #assert that the index is within the bounds of the state vector\n",
    "        assert state_index < self.num_features and state_index >= 0\n",
    "\n",
    "        #set the index of the overall state vector to 1 for the given state\n",
    "        state_discrete[state_index] = 1\n",
    "\n",
    "        return state_discrete, state_index\n",
    "\n",
    "    #compute the indices of the bin for each state value\n",
    "    def get_state_indices(self, state):\n",
    "        state_indices = []\n",
    "        for i in range(self.num_states):\n",
    "            state_indices.append(np.digitize(state[i], self.bins[i]))\n",
    "        return state_indices\n",
    "\n",
    "    #compute the Q-value for each action with the current actor weights\n",
    "    def get_Q_actions(self, state_discrete):\n",
    "        Q_actions = np.dot(state_discrete, self.actor_weights)\n",
    "        assert Q_actions.shape == (self.num_actions,)\n",
    "        return Q_actions\n",
    "\n",
    "    #compute the Q-value for the given state and action with the current actor weights\n",
    "    def get_Q_action(self, state_discrete, action):\n",
    "        Q_action = np.dot(state_discrete, self.actor_weights)[action]\n",
    "        return Q_action\n",
    "    \n",
    "    def get_V_critic(self, state_discrete):\n",
    "        V_critic = np.dot(state_discrete, self.critic_weights)\n",
    "        return V_critic\n",
    "    \n",
    "    #update the weights for the state and action with TD(0)\n",
    "    def update_weights(self, state_discrete, state_index, action, reward, alpha = 0.01):\n",
    "        #compute the Q-value for the state and action\n",
    "        Q = self.get_Q_action(state_discrete, action) #can use state index for more efficient computation\n",
    "        #compute the TD(0)-error\n",
    "        td_error = reward - Q\n",
    "        #update the weights\n",
    "        self.actor_weights[state_index,action] += alpha * td_error\n",
    "\n",
    "    #update the weights using SGD with the given batch of experiences\n",
    "    def update_weights_batch(self, batch, alpha = 0.01):\n",
    "        #compute the Q-values for the states and actions in the batch\n",
    "        Q = np.dot(batch[:,0], self.actor_weights)\n",
    "        #compute the TD(0)-error\n",
    "        td_error = batch[:,2] - Q\n",
    "        #update the weights\n",
    "        self.actor_weights += alpha * np.dot(batch[:,0].T, td_error)\n",
    "\n",
    "    #Q-learning algorithm with epsilon-greedy policy\n",
    "    def train_q_learning(self, env, episode_count = 10, alpha=0.5, gamma=0.999, epsilon=0.1, use_decay = False, epsilon_decay=0.999, seed=42):\n",
    "        # Initialize a table to count the rewards for each episode\n",
    "        rewards = np.zeros(episode_count)\n",
    "        # Initialize a table to count the number of steps for each episode\n",
    "        steps = np.zeros(episode_count)\n",
    "    \n",
    "        # Loop over episodes\n",
    "        for ep_step in range(episode_count):\n",
    "            # initialize state and action for current episode\n",
    "            state, info = env.reset(seed=seed) \n",
    "            state_discrete, state_index = self.discretize_state(state)\n",
    "            truncated = False\n",
    "            terminated = False\n",
    "            \n",
    "            # Loop over time steps within the episode\n",
    "            while not (terminated or truncated):\n",
    "\n",
    "                # Choose the next action using epsilon-greedy policy\n",
    "                action = self.epsilon_greedy_FA(epsilon,state_discrete)\n",
    "                # Take the chosen action and observe the next state and reward\n",
    "                next_state, reward, terminated, truncated, info = env.step(action)\n",
    "                # Discretize the next state\n",
    "                next_state_discrete, next_state_index = self.discretize_state(next_state)\n",
    "\n",
    "                # Update the Q-value for the current state and action\n",
    "                target = reward + gamma * np.max(self.get_Q_actions(next_state_discrete))\n",
    "                \n",
    "                # Update the weights for the current state and action\n",
    "                self.update_weights(state_discrete,state_index, action, target, alpha)\n",
    "\n",
    "                # Update the state\n",
    "                state_discrete = next_state_discrete\n",
    "                state_index = next_state_index\n",
    "    \n",
    "                # store the total discounted reward for each episode\n",
    "                rewards[ep_step] += reward * (gamma ** steps[ep_step])\n",
    "    \n",
    "                # store the number of steps for each episode\n",
    "                steps[ep_step] += 1\n",
    "    \n",
    "                env.render()\n",
    "            \n",
    "            # Decay the epsilon\n",
    "            if use_decay:\n",
    "                epsilon *= epsilon_decay\n",
    "    \n",
    "        #return the Q-table and the reward for all episodes\n",
    "        return self.actor_weights, rewards, steps\n",
    "\n",
    "    \n",
    "    # Compute the policy for the given action and state (pi_theta(a,s))\n",
    "    def get_prob_action(self, action, state_discrete, temperature = 1.0):\n",
    "        Q_actions = self.get_Q_actions(state_discrete) #logits\n",
    "        #softmax normalization\n",
    "        softmax = self.softmax(Q_actions / temperature)\n",
    "        #return the probability of the given action\n",
    "        pi = softmax[action]\n",
    "        return pi\n",
    "    \n",
    "    # Choose an action based on the softmax of the Q-values (pi_theta(a,s))\n",
    "    def get_softmax_action(self, state_discrete, temperature=1.0):\n",
    "        Q_actions = self.get_Q_actions(state_discrete)\n",
    "        #softmax normalization\n",
    "        softmax = self.softmax(Q_actions / temperature)         \n",
    "        #choose an action based on the softmax\n",
    "        action = np.random.choice(self.num_actions, p=softmax)\n",
    "        return action\n",
    "\n",
    "    # softmax function\n",
    "    def softmax(self, x):\n",
    "        e_x = np.exp(x - np.max(x))\n",
    "        return e_x / e_x.sum()\n",
    "\n",
    "\n",
    "    #reinitialize the weights uniformly\n",
    "    def reset_weights(self):\n",
    "        if self.init_actor_weights is not None:\n",
    "            self.actor_weights = self.init_actor_weights\n",
    "            #intialize the starting weights randomly between -0.001 and 0.001 for each feature and action\n",
    "        else:\n",
    "            self.actor_weights = np.random.uniform(-0.001, 0.001, (self.num_features, self.num_actions))\n",
    "        \n",
    "        if self.init_critic_weights is not None:\n",
    "            self.critic_weights = self.init_critic_weights\n",
    "        else:\n",
    "            #initialize critic weights\n",
    "            self.critic_weights = np.random.uniform(-0.001, 0.001, self.num_features)\n",
    "\n",
    "    #define epsilon-greedy policy\n",
    "    def epsilon_greedy_FA(self, epsilon, state_discrete):\n",
    "        if np.random.uniform() < epsilon:\n",
    "            # Choose a random action with probability epsilon\n",
    "            return np.random.choice(self.num_actions)\n",
    "        else:\n",
    "            # Choose the action with highest Q-value for the current state\n",
    "            return np.argmax(self.get_Q_actions(state_discrete))\n",
    "        "
   ]
  },
  {
   "cell_type": "code",
   "execution_count": 4,
   "metadata": {},
   "outputs": [],
   "source": [
    "#A2C Advantage Actor-Critic agent network\n",
    "#code using snippets from https://gymnasium.farama.org/tutorials/gymnasium_basics/vector_envs_tutorial/\n",
    "\n",
    "class A2C(nn.Module):\n",
    "    \"\"\"\n",
    "    (Synchronous) Advantage Actor-Critic agent class\n",
    "    Args:\n",
    "        n_features: The number of features of the input state.\n",
    "        n_actions: The number of actions the agent can take.\n",
    "        device: The device to run the computations on (running on a GPU might be quicker for larger Neural Nets,\n",
    "                for this code CPU is totally fine).\n",
    "        critic_lr: The learning rate for the critic network (should usually be larger than the actor_lr).\n",
    "        actor_lr: The learning rate for the actor network.\n",
    "        critic_weights: The initial weights of the critic network.\n",
    "        actor_weights: The initial weights of the actor network.\n",
    "        n_envs: The number of environments that run in parallel (on multiple CPUs) to collect experiences.\n",
    "    \"\"\"\n",
    "\n",
    "    def __init__(\n",
    "        self,\n",
    "        n_features: int,\n",
    "        n_actions: int,\n",
    "        device: torch.device,\n",
    "        critic_lr: float,\n",
    "        actor_lr: float,\n",
    "        critic_weights: np.ndarray,\n",
    "        actor_weights: np.ndarray,\n",
    "        n_envs: int,\n",
    "    ) -> None:\n",
    "        \"\"\"Initializes the actor and critic networks and their respective optimizers.\"\"\"\n",
    "        super().__init__()\n",
    "        self.device = device\n",
    "        self.n_envs = n_envs\n",
    "\n",
    "        critic_layers = [nn.Linear(n_features, 1)] # estimate V(s)\n",
    "        actor_layers = [nn.Linear(n_features, n_actions)] # estimate action logits (will be fed into a softmax later)\n",
    "        \n",
    "        # #initialize the weights of the actor and critic networks\n",
    "        # if critic_weights is not None:\n",
    "        #     self.critic[0].weight.data = torch.Tensor(critic_weights).to(self.device)\n",
    "        # else:\n",
    "        #     #uniformily initialize the weights between -0.001 and 0.001 using nn.init\n",
    "        #     nn.init.uniform_(self.critic.weight, -0.001, 0.001)\n",
    "        # if actor_weights is not None:\n",
    "        #     self.actor[0].weight.data = torch.Tensor(actor_weights).to(self.device)\n",
    "        # else:\n",
    "        #     nn.init.uniform_(self.actor.weight, -0.001, 0.001)\n",
    "\n",
    "        # define actor and critic networks\n",
    "        self.critic = nn.Sequential(*critic_layers).to(self.device)\n",
    "        self.actor = nn.Sequential(*actor_layers).to(self.device)\n",
    "\n",
    "        # define optimizers for actor and critic\n",
    "        self.critic_optim = optim.Adam(self.critic.parameters(), lr=critic_lr)\n",
    "        self.actor_optim = optim.Adam(self.actor.parameters(), lr=actor_lr)\n",
    "\n",
    "    def forward(self, x: np.ndarray) -> tuple[torch.Tensor, torch.Tensor]:\n",
    "        \"\"\"\n",
    "        Forward pass of the networks.\n",
    "\n",
    "        Args:\n",
    "            x: A batched vector of states.\n",
    "\n",
    "        Returns:\n",
    "            state_values: A tensor with the state values, with shape [n_envs,].\n",
    "            action_logits_vec: A tensor with the action logits, with shape [n_envs, n_actions].\n",
    "        \"\"\"\n",
    "        x = torch.Tensor(x).to(self.device)\n",
    "        state_values = self.critic(x)  # shape: [n_envs,]\n",
    "        action_logits_vec = self.actor(x)  # shape: [n_envs, n_actions]\n",
    "        return (state_values, action_logits_vec)\n",
    "\n",
    "    def select_action(\n",
    "        self, x: np.ndarray\n",
    "    ) -> tuple[torch.Tensor, torch.Tensor, torch.Tensor, torch.Tensor]:\n",
    "        \"\"\"\n",
    "        Returns a tuple of the chosen actions and the log-probs of those actions.\n",
    "\n",
    "        Args:\n",
    "            x: A batched vector of states.\n",
    "\n",
    "        Returns:\n",
    "            actions: A tensor with the actions, with shape [n_steps_per_update, n_envs].\n",
    "            action_log_probs: A tensor with the log-probs of the actions, with shape [n_steps_per_update, n_envs].\n",
    "            state_values: A tensor with the state values, with shape [n_steps_per_update, n_envs].\n",
    "        \"\"\"\n",
    "        state_values, action_logits = self.forward(x)\n",
    "        action_pd = torch.distributions.Categorical(\n",
    "            logits=action_logits\n",
    "        )  # implicitly uses softmax\n",
    "        actions = action_pd.sample()\n",
    "        action_log_probs = action_pd.log_prob(actions)\n",
    "        entropy = action_pd.entropy()\n",
    "        return (actions, action_log_probs, state_values, entropy)\n",
    "\n",
    "    def get_losses(\n",
    "        self,\n",
    "        rewards: torch.Tensor,\n",
    "        action_log_probs: torch.Tensor,\n",
    "        value_preds: torch.Tensor,\n",
    "        entropy: torch.Tensor,\n",
    "        masks: torch.Tensor,\n",
    "        gamma: float,\n",
    "        lam: float,\n",
    "        ent_coef: float,\n",
    "        device: torch.device,\n",
    "    ) -> tuple[torch.Tensor, torch.Tensor]:\n",
    "        \"\"\"\n",
    "        Computes the loss of a minibatch (transitions collected in one sampling phase) for actor and critic\n",
    "        using Generalized Advantage Estimation (GAE) to compute the advantages (https://arxiv.org/abs/1506.02438).\n",
    "\n",
    "        Args:\n",
    "            rewards: A tensor with the rewards for each time step in the episode, with shape [n_steps_per_update, n_envs].\n",
    "            action_log_probs: A tensor with the log-probs of the actions taken at each time step in the episode, with shape [n_steps_per_update, n_envs].\n",
    "            value_preds: A tensor with the state value predictions for each time step in the episode, with shape [n_steps_per_update, n_envs].\n",
    "            masks: A tensor with the masks for each time step in the episode, with shape [n_steps_per_update, n_envs].\n",
    "            gamma: The discount factor.\n",
    "            lam: The GAE hyperparameter. (lam=1 corresponds to Monte-Carlo sampling with high variance and no bias,\n",
    "                                          and lam=0 corresponds to normal TD-Learning that has a low variance but is biased\n",
    "                                          because the estimates are generated by a Neural Net).\n",
    "            device: The device to run the computations on (e.g. CPU or GPU).\n",
    "\n",
    "        Returns:\n",
    "            critic_loss: The critic loss for the minibatch.\n",
    "            actor_loss: The actor loss for the minibatch.\n",
    "        \"\"\"\n",
    "        T = len(rewards)\n",
    "        advantages = torch.zeros(T, self.n_envs, device=device)\n",
    "\n",
    "        # compute the advantages using GAE\n",
    "        gae = 0.0\n",
    "        for t in reversed(range(T - 1)):\n",
    "            td_error = (\n",
    "                rewards[t] + gamma * masks[t] * value_preds[t + 1] - value_preds[t]\n",
    "            )\n",
    "            gae = td_error + gamma * lam * masks[t] * gae\n",
    "            advantages[t] = gae\n",
    "\n",
    "        # calculate the loss of the minibatch for actor and critic\n",
    "        critic_loss = advantages.pow(2).mean()\n",
    "\n",
    "        # give a bonus for higher entropy to encourage exploration\n",
    "        actor_loss = (\n",
    "            -(advantages.detach() * action_log_probs).mean() - ent_coef * entropy.mean()\n",
    "        )\n",
    "        return (critic_loss, actor_loss)\n",
    "\n",
    "    def update_parameters(\n",
    "        self, critic_loss: torch.Tensor, actor_loss: torch.Tensor\n",
    "    ) -> None:\n",
    "        \"\"\"\n",
    "        Updates the parameters of the actor and critic networks.\n",
    "\n",
    "        Args:\n",
    "            critic_loss: The critic loss.\n",
    "            actor_loss: The actor loss.\n",
    "        \"\"\"\n",
    "        self.critic_optim.zero_grad()\n",
    "        critic_loss.backward()\n",
    "        self.critic_optim.step()\n",
    "\n",
    "        self.actor_optim.zero_grad()\n",
    "        actor_loss.backward()\n",
    "        self.actor_optim.step()\n"
   ]
  },
  {
   "cell_type": "code",
   "execution_count": 59,
   "metadata": {},
   "outputs": [],
   "source": [
    "#Define imitation learning agent model \n",
    "#TODO look up how to do this"
   ]
  },
  {
   "attachments": {},
   "cell_type": "markdown",
   "metadata": {},
   "source": [
    "# Offline RL on CartPole v1 (with linear function approximation or single layer perceptron)\n",
    "\n",
    "Gathering Expert Data\n",
    "* Train the expert models before gathering\n",
    "* Gather 500 behavior episodes in the task using last agent (Actor-Critic)\n",
    "* Gather 500 episodes using uniformly random policy\n",
    "\n",
    "Offline Training,\n",
    "1. Simple imitation learning, use logistic regression to imitate the action observed in each state\n",
    "2. Fitted Q-learning, using Q-learning targets, only with the batch of data given, K number of iterations on the episodes collected\n",
    "    1. initialize Q-function randomly between -0.001 and 0.001\n",
    "    2. Use two different learning rate settings 1/8 and 1/16\n",
    "3. train with 100, 250, and 500 episodes data (3 data methods x 3 data size = 9 experiments)\n",
    "    1. Use episodes with expert (Actor-Critic) to train the model\n",
    "    2. Use episodes with uniform random to train the model\n",
    "    3. Select at random, half episode from random, half from expert\n",
    "4. Run greedy policy on the trained model for 100 episodes, and plot the return in a bar chart showing the average and s.d of the return for each of the 9 experiments (6 bars for each data set size) draw two horizontal lines at the average return of the offline RL methods (the same number of episode data). 3 graphs in total.\n",
    "\n",
    "Write a small report that describes your experiment, including how you decided to stop the training,\n",
    "the results, and the conclusions you draw from this experimentation. Comment on whether the\n",
    "algorithms are matching and/or exceeding the performance of the policies used to generate the\n",
    "data. Comment also on the impact of the data set size and data quality on the results.\n",
    "\n"
   ]
  },
  {
   "cell_type": "code",
   "execution_count": 6,
   "metadata": {},
   "outputs": [],
   "source": [
    "# set hyperparameters to gather expert data \n",
    "experiment_count = 1\n",
    "episode_count = 2000 #number of episodes to gather expert data\n",
    "\n",
    "\n",
    "# set hyperparameters for linear function approximator\n",
    "bins = 10 #number of bins for discretization as features for linear function approximator\n",
    "num_states = 4 #number of states\n",
    "num_features = bins**num_states #number of features for linear function approximator\n",
    "num_actions = 2 #number of actions\n"
   ]
  },
  {
   "cell_type": "code",
   "execution_count": 7,
   "metadata": {},
   "outputs": [],
   "source": [
    "#define initial weights for linear function approximator\n",
    "critic_weights = np.random.uniform(-0.001, 0.001, num_features)\n",
    "#actor_weights = np.random.uniform(-0.001, 0.001, (num_features, num_actions)) #different action weights\n",
    "actor_weights = np.stack((critic_weights, critic_weights), axis=1) #same action weights\n",
    "actor_weights_ac = np.random.uniform(-0.001, 0.001, (num_actions, num_features))\n"
   ]
  },
  {
   "attachments": {},
   "cell_type": "markdown",
   "metadata": {},
   "source": [
    "## A2C data collection\n",
    "for discrete, could use index to store state space, save memory\n"
   ]
  },
  {
   "cell_type": "code",
   "execution_count": 12,
   "metadata": {},
   "outputs": [],
   "source": [
    "# environment hyperparams\n",
    "n_envs = 1\n",
    "n_steps_per_update = 500  # number of steps before updating the network, max number of steps\n",
    "randomize_domain = False\n",
    "\n",
    "# agent hyperparams\n",
    "lam = 0.95  # hyperparameter for GAE, TD(lambda) lam = 1 is equivalent to MC, lam = 0 is equivalent to TD(0)\n",
    "ent_coef = 0.01  # coefficient for the entropy bonus (to encourage exploration)\n",
    "alpha = 1/16 #learning rates actor \n",
    "beta = 1/4 #learning rates critic (betas are 4x larger than alphas)\n",
    "gamma = 0.99  # discount factor\n",
    "device = \"cpu\"\n",
    "# Note: the actor has a slower learning rate so that the value targets become\n",
    "# more stationary and are theirfore easier to estimate for the critic\n",
    "\n",
    "#initialize arrays to store the average rewards for each episode, each experiment, each alphas for Actor-Critic\n",
    "critic_losses_ac_nn = np.zeros((experiment_count, episode_count))\n",
    "actor_losses_ac_nn = np.zeros((experiment_count, episode_count))\n",
    "entropies_ac_nn = np.zeros((experiment_count, episode_count))\n",
    "rewards_ac_nn = np.zeros((experiment_count, episode_count))\n"
   ]
  },
  {
   "attachments": {},
   "cell_type": "markdown",
   "metadata": {},
   "source": [
    "### Train expert agent"
   ]
  },
  {
   "cell_type": "code",
   "execution_count": 9,
   "metadata": {},
   "outputs": [
    {
     "name": "stdout",
     "output_type": "stream",
     "text": [
      "Experiment: 0 alpha: 0.0625 beta: 0.25\n"
     ]
    },
    {
     "name": "stderr",
     "output_type": "stream",
     "text": [
      "  0%|          | 0/2000 [00:00<?, ?it/s]c:\\Users\\ccarc\\Anaconda3\\envs\\torch_gpu\\lib\\site-packages\\ipykernel_launcher.py:88: VisibleDeprecationWarning: Creating an ndarray from ragged nested sequences (which is a list-or-tuple of lists-or-tuples-or ndarrays with different lengths or shapes) is deprecated. If you meant to do this, you must specify 'dtype=object' when creating the ndarray.\n",
      "  2%|▏         | 43/2000 [00:07<05:21,  6.08it/s]\n"
     ]
    },
    {
     "ename": "KeyboardInterrupt",
     "evalue": "",
     "output_type": "error",
     "traceback": [
      "\u001b[1;31m---------------------------------------------------------------------------\u001b[0m",
      "\u001b[1;31mKeyboardInterrupt\u001b[0m                         Traceback (most recent call last)",
      "\u001b[1;32m~\\AppData\\Local\\Temp/ipykernel_21752/188719618.py\u001b[0m in \u001b[0;36m<module>\u001b[1;34m\u001b[0m\n\u001b[0;32m     99\u001b[0m             \u001b[0mlam\u001b[0m\u001b[1;33m,\u001b[0m\u001b[1;33m\u001b[0m\u001b[1;33m\u001b[0m\u001b[0m\n\u001b[0;32m    100\u001b[0m             \u001b[0ment_coef\u001b[0m\u001b[1;33m,\u001b[0m\u001b[1;33m\u001b[0m\u001b[1;33m\u001b[0m\u001b[0m\n\u001b[1;32m--> 101\u001b[1;33m             \u001b[0mdevice\u001b[0m\u001b[1;33m,\u001b[0m\u001b[1;33m\u001b[0m\u001b[1;33m\u001b[0m\u001b[0m\n\u001b[0m\u001b[0;32m    102\u001b[0m         )\n\u001b[0;32m    103\u001b[0m \u001b[1;33m\u001b[0m\u001b[0m\n",
      "\u001b[1;32m~\\AppData\\Local\\Temp/ipykernel_21752/1955678272.py\u001b[0m in \u001b[0;36mget_losses\u001b[1;34m(self, rewards, action_log_probs, value_preds, entropy, masks, gamma, lam, ent_coef, device)\u001b[0m\n\u001b[0;32m    134\u001b[0m                 \u001b[0mrewards\u001b[0m\u001b[1;33m[\u001b[0m\u001b[0mt\u001b[0m\u001b[1;33m]\u001b[0m \u001b[1;33m+\u001b[0m \u001b[0mgamma\u001b[0m \u001b[1;33m*\u001b[0m \u001b[0mmasks\u001b[0m\u001b[1;33m[\u001b[0m\u001b[0mt\u001b[0m\u001b[1;33m]\u001b[0m \u001b[1;33m*\u001b[0m \u001b[0mvalue_preds\u001b[0m\u001b[1;33m[\u001b[0m\u001b[0mt\u001b[0m \u001b[1;33m+\u001b[0m \u001b[1;36m1\u001b[0m\u001b[1;33m]\u001b[0m \u001b[1;33m-\u001b[0m \u001b[0mvalue_preds\u001b[0m\u001b[1;33m[\u001b[0m\u001b[0mt\u001b[0m\u001b[1;33m]\u001b[0m\u001b[1;33m\u001b[0m\u001b[1;33m\u001b[0m\u001b[0m\n\u001b[0;32m    135\u001b[0m             )\n\u001b[1;32m--> 136\u001b[1;33m             \u001b[0mgae\u001b[0m \u001b[1;33m=\u001b[0m \u001b[0mtd_error\u001b[0m \u001b[1;33m+\u001b[0m \u001b[0mgamma\u001b[0m \u001b[1;33m*\u001b[0m \u001b[0mlam\u001b[0m \u001b[1;33m*\u001b[0m \u001b[0mmasks\u001b[0m\u001b[1;33m[\u001b[0m\u001b[0mt\u001b[0m\u001b[1;33m]\u001b[0m \u001b[1;33m*\u001b[0m \u001b[0mgae\u001b[0m\u001b[1;33m\u001b[0m\u001b[1;33m\u001b[0m\u001b[0m\n\u001b[0m\u001b[0;32m    137\u001b[0m             \u001b[0madvantages\u001b[0m\u001b[1;33m[\u001b[0m\u001b[0mt\u001b[0m\u001b[1;33m]\u001b[0m \u001b[1;33m=\u001b[0m \u001b[0mgae\u001b[0m\u001b[1;33m\u001b[0m\u001b[1;33m\u001b[0m\u001b[0m\n\u001b[0;32m    138\u001b[0m \u001b[1;33m\u001b[0m\u001b[0m\n",
      "\u001b[1;31mKeyboardInterrupt\u001b[0m: "
     ]
    }
   ],
   "source": [
    "#training the expert agent\n",
    "env = gym.make('CartPole-v1', render_mode='rgb_array')\n",
    "#use encoder to discretize the state space\n",
    "oh = OneHotFA(env, bins)\n",
    "env.close()\n",
    "\n",
    "#define an array to store the state, action, next_state, reward for each episode for each experiment\n",
    "expert_data_ac_temp = []\n",
    "#gather data and loop over all experiments for A2C agent\n",
    "for exp in range(experiment_count):\n",
    "    print(\"Experiment: \" + str(exp) + \" alpha: \" + str(alpha) + \" beta: \" + str(beta))\n",
    "    \n",
    "    #initialize the A2C agent\n",
    "    agent = A2C(num_features, num_actions, device = device, critic_lr=beta, actor_lr=alpha, critic_weights=critic_weights, actor_weights=actor_weights_ac, n_envs=n_envs)\n",
    "    \n",
    "    agent.critic[0].weight.data = torch.Tensor(critic_weights).to(device)\n",
    "    agent.actor[0].weight.data = torch.Tensor(actor_weights_ac).to(device)\n",
    "    \n",
    "    #envs = gym.vector.make('CartPole-v1', num_envs=n_envs, render_mode='rgb_array', max_episode_steps=600)\n",
    "    envs = gym.vector.make('CartPole-v1', num_envs=n_envs)\n",
    "    # create a wrapper environment to save episode returns and episode lengths\n",
    "    envs_wrapper = gym.wrappers.RecordEpisodeStatistics(envs, deque_size=n_envs * episode_count)\n",
    "    \n",
    "\n",
    "    critic_losses = []\n",
    "    actor_losses = []\n",
    "    entropies = []\n",
    "    episode_data = []\n",
    "    rewards_each_ep = np.zeros(episode_count)\n",
    "    \n",
    "    # use tqdm to get a progress bar for training\n",
    "    for ep in tqdm(range(episode_count)):\n",
    "    \n",
    "        # reset lists that collect experiences of an episode (sample phase)\n",
    "        ep_value_preds = torch.zeros(n_steps_per_update, n_envs, device=device)\n",
    "        ep_rewards = torch.zeros(n_steps_per_update, n_envs, device=device)\n",
    "        ep_action_log_probs = torch.zeros(n_steps_per_update, n_envs, device=device)\n",
    "        masks = torch.zeros(n_steps_per_update, n_envs, device=device)\n",
    "\n",
    "        #initialize the discrete state space\n",
    "        state_discrete = np.zeros((n_envs, num_features))\n",
    "        next_state_discrete = np.zeros((n_envs, num_features))\n",
    "\n",
    "        # at the start of training reset all envs to get an initial state\n",
    "        #if ep == 0:\n",
    "        states, info = envs_wrapper.reset(seed=seed)\n",
    "        #discretize the state space for each n_envs\n",
    "        for i in range(n_envs):\n",
    "            state_discrete[i], _ = oh.discretize_state(states[i])\n",
    "        truncated = False\n",
    "        terminated = False\n",
    "        step = 0\n",
    "        episode_memory = []\n",
    "        # play n steps in our parallel environments to collect data\n",
    "        #for step in range(n_steps_per_update):\n",
    "        while not (terminated or truncated):\n",
    "            # select an action A_{t} using S_{t} as input for the agent\n",
    "\n",
    "            actions, action_log_probs, state_value_preds, entropy = agent.select_action(\n",
    "                torch.from_numpy(state_discrete).float().unsqueeze(0).to(device=device)\n",
    "            )\n",
    "            # perform the action A_{t} in the environment to get S_{t+1} and R_{t+1}\n",
    "            states, rewards, terminated, truncated, infos = envs_wrapper.step(\n",
    "                actions.numpy()[0]\n",
    "            )\n",
    "            #store the total discounted rewards for each episode\n",
    "            rewards_each_ep[ep] += rewards * (gamma ** step)\n",
    "    \n",
    "            #discretize the state space for each n_envs\n",
    "            for i in range(n_envs):\n",
    "                next_state_discrete[i], _ = oh.discretize_state(states[i])\n",
    "            \n",
    "\n",
    "            episode_memory.append((state_discrete.squeeze(), np.array(actions.squeeze().item()), next_state_discrete.squeeze(), rewards.squeeze()))\n",
    "\n",
    "            state_discrete = next_state_discrete\n",
    "\n",
    "            ep_value_preds[step] = torch.squeeze(state_value_preds)\n",
    "            ep_rewards[step] = torch.tensor(rewards, device=device)\n",
    "            ep_action_log_probs[step] = action_log_probs\n",
    "    \n",
    "            # add a mask (for the return calculation later);\n",
    "            # for each env the mask is 1 if the episode is ongoing and 0 if it is terminated (not by truncation!)\n",
    "            masks[step] = torch.tensor([not term for term in terminated])\n",
    "            step += 1\n",
    "\n",
    "\n",
    "        episode_data.append(np.array(episode_memory))\n",
    "\n",
    "        \n",
    "        # calculate the losses for actor and critic\n",
    "        critic_loss, actor_loss = agent.get_losses(\n",
    "            ep_rewards,\n",
    "            ep_action_log_probs,\n",
    "            ep_value_preds,\n",
    "            entropy,\n",
    "            masks,\n",
    "            gamma,\n",
    "            lam,\n",
    "            ent_coef,\n",
    "            device,\n",
    "        )\n",
    "    \n",
    "        # update the actor and critic networks\n",
    "        agent.update_parameters(critic_loss, actor_loss)\n",
    "    \n",
    "        # log the losses and entropy\n",
    "        critic_losses.append(critic_loss.detach().cpu().numpy())\n",
    "        actor_losses.append(actor_loss.detach().cpu().numpy())\n",
    "        entropies.append(entropy.detach().mean().cpu().numpy())\n",
    "\n",
    "    #save critic losses for each experiment\n",
    "    critic_losses_ac_nn[exp, :] = critic_losses\n",
    "    #save actor losses for each experiment\n",
    "    actor_losses_ac_nn[exp, :] = actor_losses\n",
    "    #save entropy for each experiment\n",
    "    entropies_ac_nn[exp, :] = entropies\n",
    "\n",
    "    #save the rewards for each episode\n",
    "    rewards_ac_nn[exp, :] = rewards_each_ep\n",
    "\n",
    "    #save the episode data\n",
    "    expert_data_ac_temp.append(np.array(episode_data))\n",
    "\n",
    "    #close the environment\n",
    "    envs_wrapper.close()\n",
    "\n",
    "expert_data_ac_temp = np.array(expert_data_ac_temp).squeeze() #with one experiment use squeeze\n"
   ]
  },
  {
   "cell_type": "code",
   "execution_count": 60,
   "metadata": {},
   "outputs": [
    {
     "data": {
      "image/png": "[encoded data removed]",
      "text/plain": [
       "<Figure size 720x360 with 1 Axes>"
      ]
     },
     "metadata": {
      "needs_background": "light"
     },
     "output_type": "display_data"
    }
   ],
   "source": [
    "#plot and label the curve with mean over all experiments for each episode for actor and critic nn\n",
    "#all in one plot\n",
    "plt.figure(figsize=(10, 5))\n",
    "plt.plot(np.mean(rewards_ac_nn[:,:], axis=0), label='A2C returns')\n",
    "plt.xlabel('Episode')\n",
    "plt.ylabel('Average Return per experiment')\n",
    "plt.title('A2C returns training 2000 episodes')\n",
    "plt.legend()\n",
    "plt.grid()\n",
    "plt.show()"
   ]
  },
  {
   "cell_type": "code",
   "execution_count": null,
   "metadata": {},
   "outputs": [],
   "source": [
    "#print the shape of the expert data for actor critic\n",
    "print(expert_data_ac_temp.shape) # number of episodes in first experiment\n",
    "print(expert_data_ac_temp.squeeze().shape) # number of episodes in first experiment\n",
    "print(expert_data_ac_temp[0].shape) # number of steps in first episode\n",
    "print(expert_data_ac_temp[0][0].shape) # shape of first step S_t, A_t, S_t+1, R_t\n",
    "print(expert_data_ac_temp[0][0]) # first step values S_t, A_t, S_t+1, R_t"
   ]
  },
  {
   "attachments": {},
   "cell_type": "markdown",
   "metadata": {},
   "source": [
    "### Gathering 500 episodes of expert data A2C"
   ]
  },
  {
   "cell_type": "code",
   "execution_count": 13,
   "metadata": {},
   "outputs": [],
   "source": [
    "# set hyperparameters to gather expert data \n",
    "experiment_count = 1\n",
    "episode_count = 500 #number of episodes to gather expert data\n",
    "\n",
    "# set hyperparameters for training\n",
    "gamma = 0.99 #discount factor\n",
    "\n",
    "\n",
    "# set hyperparameters for linear function approximator\n",
    "bins = 10 #number of bins for discretization as features for linear function approximator\n",
    "num_features = bins**num_states #number of features for linear function approximator\n",
    "num_actions = 2 #number of actions\n",
    "\n",
    "#initialize arrays to store the average rewards for each episode, each experiment, each alphas for Actor-Critic\n",
    "critic_losses_ac_nn = np.zeros((experiment_count, episode_count))\n",
    "actor_losses_ac_nn = np.zeros((experiment_count, episode_count))\n",
    "entropies_ac_nn = np.zeros((experiment_count, episode_count))\n",
    "rewards_ac_nn = np.zeros((experiment_count, episode_count))"
   ]
  },
  {
   "cell_type": "code",
   "execution_count": 14,
   "metadata": {},
   "outputs": [
    {
     "name": "stdout",
     "output_type": "stream",
     "text": [
      "tensor([[ 0.0094,  0.0076,  0.0002,  ..., -0.0002,  0.0032, -0.0048]])\n",
      "tensor([[ 0.0058,  0.0050,  0.0057,  ..., -0.0030, -0.0087,  0.0001],\n",
      "        [ 0.0007, -0.0069, -0.0087,  ..., -0.0094,  0.0016, -0.0044]])\n",
      "tensor([-0.0003,  0.0009,  0.0005,  ...,  0.0009, -0.0002, -0.0006])\n",
      "tensor([[-0.0003, -0.0003, -0.0006,  ..., -0.0004, -0.0001, -0.0007],\n",
      "        [ 0.0005, -0.0006, -0.0003,  ..., -0.0010, -0.0002, -0.0005]])\n"
     ]
    }
   ],
   "source": [
    "#save A2C agent model weights using torch save\n",
    "# torch.save(agent.critic[0].weight.data, 'critic_weights_ac_nn.pt')\n",
    "# torch.save(agent.actor[0].weight.data, 'actor_weights_ac_nn.pt')\n",
    "\n",
    "\n",
    "#load agent model using torch load\n",
    "agent = A2C(num_features, num_actions, device = device, critic_lr=beta, actor_lr=alpha, critic_weights=critic_weights, actor_weights=actor_weights_ac, n_envs=n_envs)\n",
    "\n",
    "#print agent weights\n",
    "print(agent.critic[0].weight.data)\n",
    "print(agent.actor[0].weight.data)\n",
    "\n",
    "#load agent model weights using torch load\n",
    "agent.critic[0].weight.data = torch.load('critic_weights_ac_nn.pt')\n",
    "agent.actor[0].weight.data = torch.load('actor_weights_ac_nn.pt')\n",
    "\n",
    "#print agent weights\n",
    "print(agent.critic[0].weight.data)\n",
    "print(agent.actor[0].weight.data)"
   ]
  },
  {
   "cell_type": "code",
   "execution_count": 15,
   "metadata": {},
   "outputs": [
    {
     "name": "stdout",
     "output_type": "stream",
     "text": [
      "Experiment: 0 alpha: 0.0625 beta: 0.25\n"
     ]
    },
    {
     "name": "stderr",
     "output_type": "stream",
     "text": [
      "  0%|          | 0/500 [00:00<?, ?it/s]c:\\Users\\ccarc\\Anaconda3\\envs\\torch_gpu\\lib\\site-packages\\ipykernel_launcher.py:87: VisibleDeprecationWarning: Creating an ndarray from ragged nested sequences (which is a list-or-tuple of lists-or-tuples-or ndarrays with different lengths or shapes) is deprecated. If you meant to do this, you must specify 'dtype=object' when creating the ndarray.\n",
      "c:\\Users\\ccarc\\Anaconda3\\envs\\torch_gpu\\lib\\site-packages\\ipykernel_launcher.py:88: VisibleDeprecationWarning: Creating an ndarray from ragged nested sequences (which is a list-or-tuple of lists-or-tuples-or ndarrays with different lengths or shapes) is deprecated. If you meant to do this, you must specify 'dtype=object' when creating the ndarray.\n",
      "100%|██████████| 500/500 [13:16<00:00,  1.59s/it]\n",
      "c:\\Users\\ccarc\\Anaconda3\\envs\\torch_gpu\\lib\\site-packages\\ipykernel_launcher.py:122: VisibleDeprecationWarning: Creating an ndarray from ragged nested sequences (which is a list-or-tuple of lists-or-tuples-or ndarrays with different lengths or shapes) is deprecated. If you meant to do this, you must specify 'dtype=object' when creating the ndarray.\n",
      "c:\\Users\\ccarc\\Anaconda3\\envs\\torch_gpu\\lib\\site-packages\\ipykernel_launcher.py:123: VisibleDeprecationWarning: Creating an ndarray from ragged nested sequences (which is a list-or-tuple of lists-or-tuples-or ndarrays with different lengths or shapes) is deprecated. If you meant to do this, you must specify 'dtype=object' when creating the ndarray.\n"
     ]
    }
   ],
   "source": [
    "env = gym.make('CartPole-v1', render_mode='rgb_array')\n",
    "#use encoder to discretize the state space\n",
    "oh = OneHotFA(env, bins)\n",
    "env.close()\n",
    "\n",
    "#define an array to store the state, action, next_state, reward for each episode for each experiment\n",
    "expert_data_ac = []\n",
    "expert_data_ac_discrete = []\n",
    "\n",
    "#gather data and loop over all experiments for A2C agent\n",
    "for exp in range(experiment_count):\n",
    "    print(\"Experiment: \" + str(exp) + \" alpha: \" + str(alpha) + \" beta: \" + str(beta))\n",
    "    \n",
    "    #using the previous trained A2C agent\n",
    "    \n",
    "    #envs = gym.vector.make('CartPole-v1', num_envs=n_envs, render_mode='rgb_array', max_episode_steps=600)\n",
    "    envs = gym.vector.make('CartPole-v1', num_envs=n_envs)\n",
    "    #create a wrapper environment to save episode returns and episode lengths\n",
    "    envs_wrapper = gym.wrappers.RecordEpisodeStatistics(envs, deque_size=n_envs * episode_count)\n",
    "    \n",
    "    critic_losses = []\n",
    "    actor_losses = []\n",
    "    entropies = []\n",
    "    episode_data = []\n",
    "    episode_data_discrete = []\n",
    "\n",
    "    rewards_each_ep = np.zeros(episode_count)\n",
    "    \n",
    "    # use tqdm to get a progress bar for training\n",
    "    for ep in tqdm(range(episode_count)):\n",
    "    \n",
    "        # reset lists that collect experiences of an episode (sample phase)\n",
    "        ep_value_preds = torch.zeros(n_steps_per_update, n_envs, device=device)\n",
    "        ep_rewards = torch.zeros(n_steps_per_update, n_envs, device=device)\n",
    "        ep_action_log_probs = torch.zeros(n_steps_per_update, n_envs, device=device)\n",
    "        masks = torch.zeros(n_steps_per_update, n_envs, device=device)\n",
    "\n",
    "        #initialize the discrete state space\n",
    "        state_discrete = np.zeros((n_envs, num_features))\n",
    "        next_state_discrete = np.zeros((n_envs, num_features))\n",
    "\n",
    "        # at the start of training reset all envs to get an initial state\n",
    "        #if ep == 0:\n",
    "        states, info = envs_wrapper.reset(seed=seed)\n",
    "        #discretize the state space for each n_envs\n",
    "        for i in range(n_envs):\n",
    "            state_discrete[i], _ = oh.discretize_state(states[i])\n",
    "        truncated = False\n",
    "        terminated = False\n",
    "        step = 0\n",
    "        episode_memory = []\n",
    "        episode_memory_discrete = []\n",
    "        # play n steps in our parallel environments to collect data\n",
    "        #for step in range(n_steps_per_update):\n",
    "        while not (terminated or truncated):\n",
    "            # select an action A_{t} using S_{t} as input for the agent\n",
    "\n",
    "            actions, action_log_probs, state_value_preds, entropy = agent.select_action(\n",
    "                torch.from_numpy(state_discrete).float().unsqueeze(0).to(device=device)\n",
    "            )\n",
    "            # perform the action A_{t} in the environment to get S_{t+1} and R_{t+1}\n",
    "            next_states, rewards, terminated, truncated, infos = envs_wrapper.step(\n",
    "                actions.numpy()[0]\n",
    "            )\n",
    "            #store the total discounted rewards for each episode\n",
    "            rewards_each_ep[ep] += rewards * (gamma ** step)\n",
    "    \n",
    "            #discretize the state space for each n_envs\n",
    "            for i in range(n_envs):\n",
    "                next_state_discrete[i], _ = oh.discretize_state(next_states[i])\n",
    "            \n",
    "\n",
    "            episode_memory.append((states[0].squeeze(), np.array(actions.squeeze().item()), next_states[0].squeeze(), rewards.squeeze()))\n",
    "            episode_memory_discrete.append((state_discrete[0].squeeze(), np.array(actions.squeeze().item()), next_state_discrete[0].squeeze(), rewards.squeeze()))\n",
    "\n",
    "            state_discrete = next_state_discrete\n",
    "\n",
    "            ep_value_preds[step] = torch.squeeze(state_value_preds)\n",
    "            ep_rewards[step] = torch.tensor(rewards, device=device)\n",
    "            ep_action_log_probs[step] = action_log_probs\n",
    "    \n",
    "            # add a mask (for the return calculation later);\n",
    "            # for each env the mask is 1 if the episode is ongoing and 0 if it is terminated (not by truncation!)\n",
    "            masks[step] = torch.tensor([not term for term in terminated])\n",
    "            step += 1\n",
    "\n",
    "        episode_data.append(np.array(episode_memory))\n",
    "        episode_data_discrete.append(np.array(episode_memory_discrete))\n",
    "        \n",
    "        # calculate the losses for actor and critic\n",
    "        critic_loss, actor_loss = agent.get_losses(\n",
    "            ep_rewards,\n",
    "            ep_action_log_probs,\n",
    "            ep_value_preds,\n",
    "            entropy,\n",
    "            masks,\n",
    "            gamma,\n",
    "            lam,\n",
    "            ent_coef,\n",
    "            device,\n",
    "        )\n",
    "    \n",
    "        # update the actor and critic networks\n",
    "        agent.update_parameters(critic_loss, actor_loss)\n",
    "    \n",
    "        # log the losses and entropy\n",
    "        critic_losses.append(critic_loss.detach().cpu().numpy())\n",
    "        actor_losses.append(actor_loss.detach().cpu().numpy())\n",
    "        entropies.append(entropy.detach().mean().cpu().numpy())\n",
    "\n",
    "    #save critic losses for each experiment\n",
    "    critic_losses_ac_nn[exp, :] = critic_losses\n",
    "    #save actor losses for each experiment\n",
    "    actor_losses_ac_nn[exp, :] = actor_losses\n",
    "    #save entropy for each experiment\n",
    "    entropies_ac_nn[exp, :] = entropies\n",
    "\n",
    "    #save the rewards for each episode\n",
    "    rewards_ac_nn[exp, :] = rewards_each_ep\n",
    "\n",
    "    #save the episode data\n",
    "    expert_data_ac.append(np.array(episode_data))\n",
    "    expert_data_ac_discrete.append(np.array(episode_data_discrete))\n",
    "\n",
    "    #close the environment\n",
    "    envs_wrapper.close()\n",
    "\n",
    "expert_data_ac = np.array(expert_data_ac).squeeze() #with one experiment use squeeze\n",
    "expert_data_ac_discrete = np.array(expert_data_ac_discrete).squeeze() #with one experiment use squeeze\n",
    "\n"
   ]
  },
  {
   "cell_type": "code",
   "execution_count": 16,
   "metadata": {},
   "outputs": [
    {
     "data": {
      "image/png": "[encoded data removed]",
      "text/plain": [
       "<Figure size 720x360 with 1 Axes>"
      ]
     },
     "metadata": {
      "needs_background": "light"
     },
     "output_type": "display_data"
    }
   ],
   "source": [
    "#plot and label the curve with mean over all experiments for each episode for actor and critic nn\n",
    "#all in one plot\n",
    "plt.figure(figsize=(10, 5))\n",
    "plt.plot(np.mean(rewards_ac_nn[:,:], axis=0), label='A2C returns')\n",
    "plt.xlabel('Episode')\n",
    "plt.ylabel('Average Return per experiment')\n",
    "plt.title('A2C returns gathered 500 episodes')\n",
    "plt.legend()\n",
    "plt.grid()\n",
    "plt.show()"
   ]
  },
  {
   "cell_type": "code",
   "execution_count": 17,
   "metadata": {},
   "outputs": [
    {
     "name": "stdout",
     "output_type": "stream",
     "text": [
      "(500,)\n",
      "(500,)\n",
      "(500, 4)\n",
      "(4,)\n",
      "[array([ 0.0273956 , -0.00611216,  0.03585979,  0.0197368 ], dtype=float32)\n",
      " array(1)\n",
      " array([ 0.02727336,  0.18847767,  0.03625453, -0.26141977], dtype=float32)\n",
      " array(1.)]\n"
     ]
    }
   ],
   "source": [
    "#print the shape of the expert data for actor critic\n",
    "#shape shows every episode ended up with optimal reward eg. 500 steps\n",
    "print(expert_data_ac.shape) # number of episodes in first experiment\n",
    "print(expert_data_ac.squeeze().shape) # number of episodes in first experiment\n",
    "print(expert_data_ac[0].shape) # number of steps in first episode\n",
    "print(expert_data_ac[0][0].shape) # shape of first step S_t, A_t, S_t+1, R_t\n",
    "print(expert_data_ac[0][0]) # first step values S_t, A_t, S_t+1, R_t"
   ]
  },
  {
   "cell_type": "code",
   "execution_count": 18,
   "metadata": {},
   "outputs": [
    {
     "name": "stdout",
     "output_type": "stream",
     "text": [
      "(500,)\n",
      "(500,)\n",
      "(500, 4)\n",
      "(4,)\n",
      "[array([0., 0., 0., ..., 0., 0., 0.]) array(1)\n",
      " array([0., 0., 0., ..., 0., 0., 0.]) array(1.)]\n"
     ]
    }
   ],
   "source": [
    "#print the shape of the expert data discrete for actor critic\n",
    "#shape shows every episode ended up with optimal reward eg. 500 steps\n",
    "print(expert_data_ac_discrete.shape) # number of episodes in first experiment\n",
    "print(expert_data_ac_discrete.squeeze().shape) # number of episodes in first experiment\n",
    "print(expert_data_ac_discrete[0].shape) # number of steps in first episode\n",
    "print(expert_data_ac_discrete[0][0].shape) # shape of first step S_t, A_t, S_t+1, R_t\n",
    "print(expert_data_ac_discrete[0][0]) # first step values S_t, A_t, S_t+1, R_t\n"
   ]
  },
  {
   "attachments": {},
   "cell_type": "markdown",
   "metadata": {},
   "source": [
    "### Gather 500 episodes using Uniform random policy"
   ]
  },
  {
   "cell_type": "code",
   "execution_count": 19,
   "metadata": {},
   "outputs": [
    {
     "name": "stdout",
     "output_type": "stream",
     "text": [
      "Uniform random policy Experiment: 0\n"
     ]
    },
    {
     "name": "stderr",
     "output_type": "stream",
     "text": [
      "  0%|          | 0/500 [00:00<?, ?it/s]c:\\Users\\ccarc\\Anaconda3\\envs\\torch_gpu\\lib\\site-packages\\ipykernel_launcher.py:55: VisibleDeprecationWarning: Creating an ndarray from ragged nested sequences (which is a list-or-tuple of lists-or-tuples-or ndarrays with different lengths or shapes) is deprecated. If you meant to do this, you must specify 'dtype=object' when creating the ndarray.\n",
      "c:\\Users\\ccarc\\Anaconda3\\envs\\torch_gpu\\lib\\site-packages\\ipykernel_launcher.py:56: VisibleDeprecationWarning: Creating an ndarray from ragged nested sequences (which is a list-or-tuple of lists-or-tuples-or ndarrays with different lengths or shapes) is deprecated. If you meant to do this, you must specify 'dtype=object' when creating the ndarray.\n",
      "100%|██████████| 500/500 [00:40<00:00, 12.44it/s]\n",
      "c:\\Users\\ccarc\\Anaconda3\\envs\\torch_gpu\\lib\\site-packages\\ipykernel_launcher.py:62: VisibleDeprecationWarning: Creating an ndarray from ragged nested sequences (which is a list-or-tuple of lists-or-tuples-or ndarrays with different lengths or shapes) is deprecated. If you meant to do this, you must specify 'dtype=object' when creating the ndarray.\n",
      "c:\\Users\\ccarc\\Anaconda3\\envs\\torch_gpu\\lib\\site-packages\\ipykernel_launcher.py:63: VisibleDeprecationWarning: Creating an ndarray from ragged nested sequences (which is a list-or-tuple of lists-or-tuples-or ndarrays with different lengths or shapes) is deprecated. If you meant to do this, you must specify 'dtype=object' when creating the ndarray.\n"
     ]
    }
   ],
   "source": [
    "env = gym.make('CartPole-v1', render_mode='rgb_array')\n",
    "#use encoder to discretize the state space\n",
    "oh = OneHotFA(env, bins)\n",
    "env.close()\n",
    "\n",
    "expert_data_uf = []\n",
    "expert_data_uf_discrete = []\n",
    "\n",
    "#gather data and loop over all experiments for uniformly random policy\n",
    "rewards_uf = np.zeros((experiment_count, episode_count))\n",
    "\n",
    "for exp in range(experiment_count):\n",
    "    print(\"Uniform random policy Experiment: \" + str(exp))\n",
    "    #initialize the environment\n",
    "    env = gym.make('CartPole-v1', render_mode='rgb_array')\n",
    "\n",
    "    # Initialize a table to count the rewards for each episode\n",
    "    rewards_each_ep = np.zeros(episode_count)\n",
    "    episode_data = []\n",
    "    episode_data_discrete = []\n",
    "\n",
    "    # Initialize a table to count the number of steps for each episode\n",
    "    steps = np.zeros(episode_count)\n",
    "\n",
    "    # Loop over episodes\n",
    "    for ep in tqdm(range(episode_count)):\n",
    "        # initialize state and action for current episode\n",
    "        state, info = env.reset(seed=seed) \n",
    "        state_discrete, _ = oh.discretize_state(state)\n",
    "\n",
    "        truncated = False\n",
    "        terminated = False\n",
    "        \n",
    "        episode_memory = []\n",
    "        episode_memory_discrete = []\n",
    "        \n",
    "        # Loop over time steps within the episode\n",
    "        while not (terminated or truncated):\n",
    "            # Choose the next action using uniform random policy\n",
    "            action = uniform_random(num_actions)\n",
    "            # Take the chosen action and observe the next state and reward\n",
    "            next_state, reward, terminated, truncated, info = env.step(action)\n",
    "            next_state_discrete, _ = oh.discretize_state(next_state)\n",
    "\n",
    "            # store the total reward for each episode\n",
    "            rewards_each_ep[ep] += reward * (gamma ** step)\n",
    "\n",
    "            episode_memory.append((state, np.asarray(action), next_state, np.asarray(reward)))\n",
    "            episode_memory_discrete.append((state_discrete, np.asarray(action), next_state_discrete, np.asarray(reward)))          \n",
    "\n",
    "            # store the number of steps for each episode\n",
    "            steps[ep] += 1\n",
    "            env.render()\n",
    "\n",
    "        episode_data.append(np.array(episode_memory))\n",
    "        episode_data_discrete.append(np.array(episode_memory_discrete))\n",
    "\n",
    "    #save the rewards for each episode\n",
    "    rewards_uf[exp, :] = rewards_each_ep\n",
    "\n",
    "    #save the episode data\n",
    "    expert_data_uf.append(np.array(episode_data))\n",
    "    expert_data_uf_discrete.append(np.array(episode_data_discrete))\n",
    "\n",
    "    #close the environment\n",
    "    env.close()\n",
    "\n",
    "expert_data_uf = np.array(expert_data_uf).squeeze() #with one experiment use squeeze\n",
    "expert_data_uf_discrete = np.array(expert_data_uf_discrete).squeeze() #with one experiment use squeeze"
   ]
  },
  {
   "cell_type": "code",
   "execution_count": 20,
   "metadata": {},
   "outputs": [
    {
     "data": {
      "image/png": "[encoded data removed]",
      "text/plain": [
       "<Figure size 720x360 with 1 Axes>"
      ]
     },
     "metadata": {
      "needs_background": "light"
     },
     "output_type": "display_data"
    }
   ],
   "source": [
    "#plot and label the curve with mean over all experiments for each episode for uniformly random policy\n",
    "#all in one plot\n",
    "plt.figure(figsize=(10, 5))\n",
    "plt.plot(np.mean(rewards_uf[:,:], axis=0), label='Uniform random returns')\n",
    "plt.xlabel('Episode')\n",
    "plt.ylabel('Average Return per experiment')\n",
    "plt.title('Uniform random returns gathered 500 episodes')\n",
    "plt.legend()\n",
    "plt.grid()\n",
    "plt.show()"
   ]
  },
  {
   "cell_type": "code",
   "execution_count": 21,
   "metadata": {},
   "outputs": [
    {
     "name": "stdout",
     "output_type": "stream",
     "text": [
      "(500,)\n",
      "(23, 4)\n",
      "23\n",
      "(4,)\n",
      "[array([ 0.0273956 , -0.00611216,  0.03585979,  0.0197368 ], dtype=float32)\n",
      " array(0)\n",
      " array([ 0.02727336, -0.20172954,  0.03625453,  0.32351476], dtype=float32)\n",
      " array(1.)]\n",
      "[ 0.0273956  -0.00611216  0.03585979  0.0197368 ]\n",
      "0\n"
     ]
    }
   ],
   "source": [
    "#print the shape of the expert data for uniformly random policy\n",
    "print(expert_data_uf.shape) # number of episodes\n",
    "print(expert_data_uf[0].shape) # number of steps in first episode\n",
    "print(expert_data_uf[0].shape[0]) # number of steps in first episode\n",
    "print(expert_data_uf[0][0].shape) # shape of first step S_t, A_t, S_t+1, R_t\n",
    "print(expert_data_uf[0][0]) # first step values S_t, A_t, S_t+1, R_t\n",
    "print(expert_data_uf[0][0][0]) # first step values S_t\n",
    "print(expert_data_uf[0][0][1]) # first step values A_t\n"
   ]
  },
  {
   "cell_type": "code",
   "execution_count": 22,
   "metadata": {},
   "outputs": [
    {
     "name": "stdout",
     "output_type": "stream",
     "text": [
      "(500,)\n",
      "(23, 4)\n",
      "23\n",
      "(4,)\n",
      "[array([0., 0., 0., ..., 0., 0., 0.]) array(0)\n",
      " array([0., 0., 0., ..., 0., 0., 0.]) array(1.)]\n",
      "[0. 0. 0. ... 0. 0. 0.]\n",
      "0\n"
     ]
    }
   ],
   "source": [
    "#print the shape of the expert data discrete for uniformly random policy\n",
    "print(expert_data_uf_discrete.shape) # number of episodes\n",
    "print(expert_data_uf_discrete[0].shape) # number of steps in first episode\n",
    "print(expert_data_uf_discrete[0].shape[0]) # number of steps in first episode\n",
    "print(expert_data_uf_discrete[0][0].shape) # shape of first step S_t, A_t, S_t+1, R_t\n",
    "print(expert_data_uf_discrete[0][0]) # first step values S_t, A_t, S_t+1, R_t\n",
    "print(expert_data_uf_discrete[0][0][0]) # first step values S_t\n",
    "print(expert_data_uf_discrete[0][0][1]) # first step values A_t\n"
   ]
  },
  {
   "cell_type": "code",
   "execution_count": 23,
   "metadata": {},
   "outputs": [
    {
     "name": "stdout",
     "output_type": "stream",
     "text": [
      "[164, 383, 45, 156, 53, 72, 315, 209, 74, 333, 403, 415, 92, 215, 479, 59, 368, 163, 210, 251, 443, 320, 289, 389, 7, 462, 249, 228, 245, 211, 129, 162, 223, 41, 278, 21, 434, 68, 227, 151, 369, 217, 154, 177, 397, 139, 141, 326, 175, 170, 88, 96, 439, 303, 50, 199, 297, 131, 120, 358, 180, 370, 37, 160, 4, 93, 304, 188, 374, 453, 94, 468, 292, 340, 407, 408, 187, 334, 213, 127, 11, 6, 442, 246, 396, 425, 345, 89, 426, 26, 77, 184, 262, 207, 182, 95, 100, 419, 394, 155, 230, 362, 237, 353, 85, 323, 171, 393, 153, 313, 38, 392, 69, 106, 348, 489, 428, 158, 31, 244, 8, 267, 485, 233, 261, 401, 291, 198, 132, 324, 322, 2, 18, 488, 263, 76, 253, 314, 351, 471, 143, 449, 66, 179, 133, 144, 406, 280, 269, 466, 208, 145, 432, 277, 341, 465, 317, 17, 448, 20, 130, 238, 296, 286, 336, 300, 149, 203, 387, 398, 190, 201, 418, 14, 55, 75, 284, 39, 391, 460, 257, 178, 212, 472, 420, 67, 99, 476, 97, 196, 339, 288, 318, 457, 124, 242, 42, 60, 192, 422, 266, 254, 384, 497, 226, 495, 113, 19, 218, 118, 364, 385, 437, 293, 493, 378, 241, 446, 435, 27, 220, 469, 86, 361, 103, 481, 25, 307, 167, 450, 475, 410, 221, 416, 105, 371, 90, 452, 168, 240, 402, 48, 104, 206, 247, 200, 62, 477, 147, 146, 225, 421, 484, 491, 451, 109, 294, 440, 121, 265, 169, 381, 34, 268, 30, 400, 461, 354, 382, 10, 173, 342, 115, 363, 61, 231, 264, 224, 312, 356, 159, 102, 310, 372, 344, 337, 365, 84, 281, 243, 65, 64, 272, 423, 248, 43, 417, 375, 123, 29, 122, 157, 355, 330, 9, 250, 165, 306, 0, 271, 276, 82, 191, 347, 473, 399, 319, 152, 54, 259, 91, 256, 430, 1, 459, 80, 222, 431, 498, 455, 328, 404, 436, 58, 5, 283, 128, 270, 239, 405, 195, 197, 32, 305, 487, 458, 429, 78, 56, 24, 46, 252, 260, 70, 386, 427, 204, 298, 219, 299, 134, 275, 474, 126, 492, 441, 73, 234, 329, 202, 255, 335, 376, 380, 367, 290, 108, 33, 137, 205, 161, 482, 117, 28, 166, 350, 467, 285, 352, 499, 138, 463, 236, 409, 494, 438, 273, 87, 411, 311, 36, 331, 349, 470, 136, 343, 107, 181, 189, 83, 186, 325, 232, 454, 447, 51, 478, 444, 148, 395, 116, 338, 23, 35, 360, 98, 295, 185, 316, 321, 424, 150, 282, 40, 193, 63, 274, 235, 373, 22, 413, 135, 309, 176, 433, 183, 49, 194, 480, 490, 172, 390, 110, 79, 464, 174, 483, 357, 81, 412, 388, 3, 445, 414, 142, 301, 229, 112, 214, 486, 359, 332, 366, 101, 287, 13, 308, 258, 119, 111, 47, 15, 16, 216, 302, 44, 279, 456, 496, 346, 52, 377, 71, 114, 125, 140, 379, 12, 57, 327]\n"
     ]
    }
   ],
   "source": [
    "#randomly select half of the indices from expert_data_ac and half of the indices from expert_data_uf episodes\n",
    "#from a list of indices length of episodes\n",
    "indices = list(range(episode_count))\n",
    "random.shuffle(indices)\n",
    "print(indices)\n",
    "\n",
    "#select half of the indices from expert_data_ac and half of the indices from expert_data_uf episodes\n",
    "#combine them in a new array called expert_data_ac_uf\n",
    "expert_data_ac_uf = np.empty((episode_count), dtype=object)\n",
    "for i in range(episode_count):\n",
    "    if i < episode_count/2:\n",
    "        expert_data_ac_uf[indices[i]] = expert_data_ac[indices[i]]\n",
    "    else:\n",
    "        expert_data_ac_uf[indices[i]] = expert_data_uf[indices[i]]\n",
    "\n",
    "#same for discrete\n",
    "expert_data_ac_uf_discrete = np.empty((episode_count), dtype=object)\n",
    "for i in range(episode_count):\n",
    "    if i < episode_count/2:\n",
    "        expert_data_ac_uf_discrete[indices[i]] = expert_data_ac_discrete[indices[i]]\n",
    "    else:\n",
    "        expert_data_ac_uf_discrete[indices[i]] = expert_data_uf_discrete[indices[i]]\n",
    "\n",
    "expert_data_ac_uf = np.array(expert_data_ac_uf).squeeze() #with one experiment use squeeze\n",
    "expert_data_ac_uf_discrete = np.array(expert_data_ac_uf_discrete).squeeze() #with one experiment use squeeze"
   ]
  },
  {
   "cell_type": "code",
   "execution_count": 24,
   "metadata": {},
   "outputs": [
    {
     "name": "stdout",
     "output_type": "stream",
     "text": [
      "(500,)\n",
      "(31, 4)\n",
      "23\n",
      "(4,)\n",
      "[array([ 0.0273956 , -0.00611216,  0.03585979,  0.0197368 ], dtype=float32)\n",
      " array(0)\n",
      " array([ 0.02727336, -0.20172954,  0.03625453,  0.32351476], dtype=float32)\n",
      " array(1.)]\n",
      "(4,)\n",
      "0\n"
     ]
    }
   ],
   "source": [
    "#print the shape of the expert data for actor critic and uniformly random policy\n",
    "print(expert_data_ac_uf.shape) # number of episodes\n",
    "print(expert_data_ac_uf[216].shape) # (number of steps in first episode, num_states)\n",
    "print(expert_data_ac_uf[0].shape[0]) # number of steps in first episode\n",
    "print(expert_data_ac_uf[0][0].shape) # shape of first step S_t, A_t, S_t+1, R_t\n",
    "print(expert_data_ac_uf[0][0]) # first step values S_t, A_t, S_t+1, R_t\n",
    "print(expert_data_ac_uf[0][0][0].shape) # first step values S_t\n",
    "print(expert_data_ac_uf[0][0][1]) # first step values A_t\n",
    "\n"
   ]
  },
  {
   "cell_type": "code",
   "execution_count": 25,
   "metadata": {},
   "outputs": [],
   "source": [
    "#stack all data into one array\n",
    "expert_data_all = np.stack((expert_data_ac, expert_data_uf,expert_data_ac_uf), axis=0)\n",
    "expert_data_all_discrete = np.stack((expert_data_ac_discrete, expert_data_uf_discrete,expert_data_ac_uf_discrete), axis=0)\n",
    "\n",
    "#save the expert data #very large!!!\n",
    "# np.save('expert_data_all.npy', expert_data_all)\n",
    "# np.save('expert_data_all_discrete.npy', expert_data_all_discrete)\n"
   ]
  },
  {
   "cell_type": "code",
   "execution_count": 26,
   "metadata": {},
   "outputs": [
    {
     "name": "stdout",
     "output_type": "stream",
     "text": [
      "[[array([0., 0., 0., ..., 0., 0., 0.]) array(0)\n",
      "  array([0., 0., 0., ..., 0., 0., 0.]) array(1.)]\n",
      " [array([0., 0., 0., ..., 0., 0., 0.]) array(0)\n",
      "  array([0., 0., 0., ..., 0., 0., 0.]) array(1.)]\n",
      " [array([0., 0., 0., ..., 0., 0., 0.]) array(1)\n",
      "  array([0., 0., 0., ..., 0., 0., 0.]) array(1.)]\n",
      " [array([0., 0., 0., ..., 0., 0., 0.]) array(1)\n",
      "  array([0., 0., 0., ..., 0., 0., 0.]) array(1.)]\n",
      " [array([0., 0., 0., ..., 0., 0., 0.]) array(0)\n",
      "  array([0., 0., 0., ..., 0., 0., 0.]) array(1.)]\n",
      " [array([0., 0., 0., ..., 0., 0., 0.]) array(1)\n",
      "  array([0., 0., 0., ..., 0., 0., 0.]) array(1.)]\n",
      " [array([0., 0., 0., ..., 0., 0., 0.]) array(0)\n",
      "  array([0., 0., 0., ..., 0., 0., 0.]) array(1.)]\n",
      " [array([0., 0., 0., ..., 0., 0., 0.]) array(1)\n",
      "  array([0., 0., 0., ..., 0., 0., 0.]) array(1.)]\n",
      " [array([0., 0., 0., ..., 0., 0., 0.]) array(1)\n",
      "  array([0., 0., 0., ..., 0., 0., 0.]) array(1.)]\n",
      " [array([0., 0., 0., ..., 0., 0., 0.]) array(1)\n",
      "  array([0., 0., 0., ..., 0., 0., 0.]) array(1.)]\n",
      " [array([0., 0., 0., ..., 0., 0., 0.]) array(0)\n",
      "  array([0., 0., 0., ..., 0., 0., 0.]) array(1.)]\n",
      " [array([0., 0., 0., ..., 0., 0., 0.]) array(0)\n",
      "  array([0., 0., 0., ..., 0., 0., 0.]) array(1.)]\n",
      " [array([0., 0., 0., ..., 0., 0., 0.]) array(0)\n",
      "  array([0., 0., 0., ..., 0., 0., 0.]) array(1.)]\n",
      " [array([0., 0., 0., ..., 0., 0., 0.]) array(0)\n",
      "  array([0., 0., 0., ..., 0., 0., 0.]) array(1.)]\n",
      " [array([0., 0., 0., ..., 0., 0., 0.]) array(1)\n",
      "  array([0., 0., 0., ..., 0., 0., 0.]) array(1.)]\n",
      " [array([0., 0., 0., ..., 0., 0., 0.]) array(1)\n",
      "  array([0., 0., 0., ..., 0., 0., 0.]) array(1.)]\n",
      " [array([0., 0., 0., ..., 0., 0., 0.]) array(0)\n",
      "  array([0., 0., 0., ..., 0., 0., 0.]) array(1.)]\n",
      " [array([0., 0., 0., ..., 0., 0., 0.]) array(1)\n",
      "  array([0., 0., 0., ..., 0., 0., 0.]) array(1.)]\n",
      " [array([0., 0., 0., ..., 0., 0., 0.]) array(0)\n",
      "  array([0., 0., 0., ..., 0., 0., 0.]) array(1.)]\n",
      " [array([0., 0., 0., ..., 0., 0., 0.]) array(0)\n",
      "  array([0., 0., 0., ..., 0., 0., 0.]) array(1.)]\n",
      " [array([0., 0., 0., ..., 0., 0., 0.]) array(1)\n",
      "  array([0., 0., 0., ..., 0., 0., 0.]) array(1.)]\n",
      " [array([0., 0., 0., ..., 0., 0., 0.]) array(1)\n",
      "  array([0., 0., 0., ..., 0., 0., 0.]) array(1.)]\n",
      " [array([0., 0., 0., ..., 0., 0., 0.]) array(1)\n",
      "  array([0., 0., 0., ..., 0., 0., 0.]) array(1.)]]\n",
      "[[array([0., 0., 0., ..., 0., 0., 0.]) array(1)\n",
      "  array([0., 0., 0., ..., 0., 0., 0.]) array(1.)]\n",
      " [array([0., 0., 0., ..., 0., 0., 0.]) array(0)\n",
      "  array([0., 0., 0., ..., 0., 0., 0.]) array(1.)]\n",
      " [array([0., 0., 0., ..., 0., 0., 0.]) array(1)\n",
      "  array([0., 0., 0., ..., 0., 0., 0.]) array(1.)]\n",
      " ...\n",
      " [array([0., 0., 0., ..., 0., 0., 0.]) array(0)\n",
      "  array([0., 0., 0., ..., 0., 0., 0.]) array(1.)]\n",
      " [array([0., 0., 0., ..., 0., 0., 0.]) array(1)\n",
      "  array([0., 0., 0., ..., 0., 0., 0.]) array(1.)]\n",
      " [array([0., 0., 0., ..., 0., 0., 0.]) array(0)\n",
      "  array([0., 0., 0., ..., 0., 0., 0.]) array(1.)]]\n",
      "(500, 4)\n",
      "3\n"
     ]
    }
   ],
   "source": [
    "#print the save for continuous\n",
    "# print(expert_data_ac)\n",
    "# print(expert_data_all[0].shape)\n",
    "# print(len(expert_data_all))\n",
    "\n",
    "#print the save for discrete\n",
    "print(expert_data_uf_discrete[0])\n",
    "print(expert_data_ac_discrete[0])\n",
    "print(expert_data_all_discrete[0][0].shape)\n",
    "print(len(expert_data_all_discrete))\n"
   ]
  },
  {
   "attachments": {},
   "cell_type": "markdown",
   "metadata": {},
   "source": [
    "## Offline RL\n",
    "Using expert data\n",
    "A2C: expert_data_ac\n",
    "Uniform random: expert_data_uf"
   ]
  },
  {
   "cell_type": "code",
   "execution_count": 27,
   "metadata": {},
   "outputs": [],
   "source": [
    "# set hyperparameters for training\n",
    "episode_cs = [100, 250, 500] # number of episode sizes to select from in each experiment\n",
    "alphas = [1/8, 1/16] # learning rates\n",
    "gamma = 0.99 # discount factor"
   ]
  },
  {
   "attachments": {},
   "cell_type": "markdown",
   "metadata": {},
   "source": [
    "### Simple imitation learning"
   ]
  },
  {
   "cell_type": "code",
   "execution_count": null,
   "metadata": {},
   "outputs": [],
   "source": [
    "#Offline training using expert data on a policy network model (supervised)\n",
    "env = gym.make('CartPole-v1', render_mode='rgb_array')\n",
    "#use encoder to discretize the state space\n",
    "oh = OneHotFA(env, bins)\n",
    "\n",
    "# Initialize a table to count the rewards for each episode\n",
    "rewards = np.zeros(episode_count)\n",
    "# Initialize a table to count the number of steps for each episode\n",
    "steps = np.zeros(episode_count)\n",
    "\n",
    "# Loop over episodes\n",
    "for ep_step in tqdm(range(episode_count)):\n",
    "    # get first state and action for current episode\n",
    "    state_discrete = expert_data_ac[0][0][0]\n",
    "    first_action = expert_data_ac[0][0][1]\n",
    "    # state_discrete, _ = oh.discretize_state(state) #already discretized\n",
    "    truncated = False\n",
    "    terminated = False\n",
    "    episode_memory = []\n",
    "\n",
    "    # Loop over time steps within the episode\n",
    "    while not (terminated or truncated):\n",
    "        # Choose the next action using policy network #TODO use imitation learning (supervised learning)\n",
    "        action = oh.get_softmax_action(state_discrete, temperature = 0.01)\n",
    "\n",
    "        # Take the chosen action and observe the next state and reward\n",
    "        # next_state, reward, terminated, truncated, info = env.step(action)\n",
    "\n",
    "        # Get the previous action, next state and reward from expert data\n",
    "        expert_previous_action = expert_data_ac[0][steps[ep_step]][1]\n",
    "        next_state_discrete = expert_data_ac[0][steps[ep_step]][2]\n",
    "        reward = expert_data_ac[0][steps[ep_step]][3]\n",
    "\n",
    "        #terminated set to true if the step size is equal to\n",
    "        if steps[ep_step] == expert_data_ac[0].shape[0] - 1:\n",
    "            terminated = True\n",
    "\n",
    "        # Discretize the next state\n",
    "        #next_state_discrete, next_state_index = oh.discretize_state(next_state)\n",
    "\n",
    "        episode_memory.append((state_discrete, action, reward, next_state_discrete))\n",
    "\n",
    "        # Update the state TODO need?\n",
    "        state_discrete = next_state_discrete\n",
    "\n",
    "        # store the total reward for each episode\n",
    "        rewards[ep_step] += rewards * (gamma ** steps[ep_step])\n",
    "        # store the number of steps for each episode\n",
    "        steps[ep_step] += 1\n",
    "\n",
    "        env.render()\n",
    "\n",
    "\n",
    "\n",
    "    #TODO Update using imitation learning after each episode use\n",
    "    for t in range(len(episode_memory)):\n",
    "        state_discrete, action, reward, next_state_discrete = episode_memory[t]\n",
    "        state_index = np.argmax(state_discrete)\n",
    "        next_state_index = np.argmax(next_state_discrete)\n",
    "\n",
    "        #TODO\n",
    "\n",
    "env.close()\n"
   ]
  },
  {
   "cell_type": "code",
   "execution_count": null,
   "metadata": {},
   "outputs": [],
   "source": [
    "#print and plot the average rewards (return) with its standard deviation for all episodes\n",
    "print(\"Average reward: \", np.mean(rewards))\n",
    "print(\"Standard deviation: \", np.std(rewards))\n",
    "plt.plot(rewards)\n",
    "plt.xlabel(\"Episode\")\n",
    "plt.ylabel(\"Reward\")\n",
    "plt.show()\n"
   ]
  },
  {
   "attachments": {},
   "cell_type": "markdown",
   "metadata": {},
   "source": [
    "#### Online greedy test run"
   ]
  },
  {
   "cell_type": "code",
   "execution_count": null,
   "metadata": {},
   "outputs": [],
   "source": [
    "#online greedy testing parameters\n",
    "episode_count = 100\n",
    "rewards_il = np.zeros((experiment_count, episode_count))\n",
    "\n",
    "\n",
    "#A2C agent #TODO use imitation learning agent weights\n",
    "QFunction = agent.actor[0].weight.data\n",
    "\n",
    "\n",
    "\n",
    "#initialize the environment\n",
    "env = gym.make('CartPole-v1', render_mode='rgb_array')\n",
    "#use encoder to discretize the state space\n",
    "oha = OneHotFA(env, bins)\n",
    "\n",
    "# Initialize a table to count the rewards for each episode\n",
    "rewards_each_ep = np.zeros(episode_count)\n",
    "episode_data = []\n",
    "expert_data_il = []\n",
    "\n",
    "# Initialize a table to count the number of steps for each episode\n",
    "steps = np.zeros(episode_count)\n",
    "\n",
    "# Loop over episodes\n",
    "for ep in range(episode_count):\n",
    "    # initialize state and action for current episode\n",
    "    state, info = env.reset(seed=seed) \n",
    "    state_discrete, state_index = ofa.discretize_state(state)\n",
    "    truncated = False\n",
    "    terminated = False\n",
    "    \n",
    "    episode_memory = []\n",
    "    \n",
    "    # Loop over time steps within the episode\n",
    "    while not (terminated or truncated):\n",
    "\n",
    "        # Choose the next action using greedy policy\n",
    "        action = epsilon_greedy(QFunction, state_discrete, num_actions=num_actions, epsilon=0.0)\n",
    "        # Take the chosen action and observe the next state and reward\n",
    "        next_state, reward, terminated, truncated, info = env.step(action)\n",
    "        # Discretize the next state\n",
    "        next_state_discrete, next_state_index = ofa.discretize_state(next_state)\n",
    "\n",
    "        episode_memory.append((state_discrete, np.asarray(action), next_state_discrete, np.asarray(reward)))\n",
    "\n",
    "        # Update the state\n",
    "        state_discrete = next_state_discrete\n",
    "\n",
    "        # store the total reward for each episode\n",
    "        rewards_each_ep[ep] += reward * (gamma ** step)\n",
    "\n",
    "        # store the number of steps for each episode\n",
    "        steps[ep] += 1\n",
    "\n",
    "        env.render()\n",
    "\n",
    "    episode_data.append(np.array(episode_memory))\n",
    "\n",
    "#save the rewards for each episode\n",
    "rewards_il[exp, :] = rewards_each_ep\n",
    "\n",
    "#save the episode data\n",
    "expert_data_il.append(np.array(episode_data))\n",
    "\n",
    "#close the environment\n",
    "env.close()"
   ]
  },
  {
   "cell_type": "code",
   "execution_count": null,
   "metadata": {},
   "outputs": [],
   "source": [
    "#plot the average rewards (return) with its standard deviation for all episodes\n",
    "print(\"Average reward: \", np.mean(rewards_il))\n",
    "print(\"Standard deviation: \", np.std(rewards_il))\n",
    "plt.plot(rewards_il)\n",
    "plt.xlabel(\"Episode\")\n",
    "plt.ylabel(\"Reward\")\n",
    "plt.show()"
   ]
  },
  {
   "attachments": {},
   "cell_type": "markdown",
   "metadata": {},
   "source": [
    "### Fitted Q-learning with logistic regression (SKLearn) (only runs on a single data set)"
   ]
  },
  {
   "cell_type": "code",
   "execution_count": 193,
   "metadata": {},
   "outputs": [
    {
     "name": "stdout",
     "output_type": "stream",
     "text": [
      "Max iterations:  10\n",
      "Convergence reached after 0 epochs\n",
      "Loss difference:  2.3395226667055624e-07\n",
      "Loss:  0.9901746608853138\n",
      "Convergence reached after 1 epochs\n",
      "Loss difference:  3.861619555345364e-06\n",
      "Loss:  0.9901710332180251\n",
      "Convergence reached after 2 epochs\n",
      "Loss difference:  2.339527025441157e-07\n",
      "Loss:  0.9901746608841461\n",
      "Convergence reached after 3 epochs\n",
      "Loss difference:  3.8616189588225325e-06\n",
      "Loss:  0.9901710332178898\n",
      "Convergence reached after 4 epochs\n",
      "Loss difference:  2.3395136516946025e-07\n",
      "Loss:  0.9901746608849484\n",
      "Convergence reached after 5 epochs\n",
      "Loss difference:  3.861617972278353e-06\n",
      "Loss:  0.9901710332183413\n",
      "Convergence reached after 6 epochs\n",
      "Loss difference:  2.3395257842118156e-07\n",
      "Loss:  0.9901746608849638\n",
      "Convergence reached after 7 epochs\n",
      "Loss difference:  3.861618917411214e-06\n",
      "Loss:  0.9901710332186248\n",
      "Convergence reached after 8 epochs\n",
      "Loss difference:  2.339527025441157e-07\n",
      "Loss:  0.9901746608841461\n",
      "Convergence reached after 9 epochs\n",
      "Loss difference:  3.8616189588225325e-06\n",
      "Loss:  0.9901710332178898\n"
     ]
    }
   ],
   "source": [
    "import numpy as np\n",
    "from sklearn.linear_model import LogisticRegression\n",
    "from sklearn.metrics import mean_squared_error\n",
    "\n",
    "# Define the hyperparameters\n",
    "learning_rate = 0.001\n",
    "tolerance = 1e-5\n",
    "selected_data = 0\n",
    "batch_size = int(episode_cs[selected_data]/2)\n",
    "gamma = 0.99\n",
    "K_iterations = 10\n",
    "print(\"Max iterations: \", K_iterations)\n",
    "\n",
    "# Initialize the logistic regression model\n",
    "q_logreg = LogisticRegression(solver='lbfgs', multi_class='multinomial', max_iter=1000)\n",
    "\n",
    "# Initialize the q_logreg model uniformly at random between -0.001 and 0.001\n",
    "q_logreg.coef_ = np.random.uniform(-0.001, 0.001, size=(num_actions, num_features))\n",
    "q_logreg.intercept_ = np.random.uniform(-0.001, 0.001, size=(num_actions))\n",
    "\n",
    "\n",
    "c_episode = 0\n",
    "loss_values = np.zeros(K_iterations)\n",
    "prev_loss = np.inf\n",
    "\n",
    "for t in tqdm(range(K_iterations)):\n",
    "    if c_episode >= episode_cs[0]:\n",
    "        c_episode = 0\n",
    "\n",
    "    batch_indices = np.arange(c_episode, min(c_episode+batch_size, expert_data_ac_uf.shape[0]))\n",
    "\n",
    "    expert_batch = expert_data_ac_discrete[batch_indices]\n",
    "\n",
    "    for expert_data in expert_batch:\n",
    "\n",
    "        states = np.stack([a for a in expert_data[:, 0]]).astype(np.float32)\n",
    "        actions = np.stack([a for a in expert_data[:, 1]]).astype(np.int64)\n",
    "        next_inputs = np.stack([a for a in expert_data[:, 2]]).astype(np.float32)\n",
    "        rewards = np.stack([a for a in expert_data[:, 3]]).astype(np.float32)\n",
    "        step_size = expert_data.shape[0]\n",
    "\n",
    "        with np.errstate(all='ignore'):\n",
    "            next_q_values = q_logreg.predict_proba(next_inputs)\n",
    "            target_qsa = rewards + gamma * np.max(next_q_values, axis=1)\n",
    "\n",
    "        q_logreg.fit(states, actions, sample_weight=target_qsa)\n",
    "\n",
    "        #loss = q_logreg.score(states, actions)\n",
    "        # Calculate the mean squared error as the loss\n",
    "        predicted_q_values = q_logreg.predict_proba(states)\n",
    "        predicted_qsa = predicted_q_values[np.arange(step_size), actions]\n",
    "        loss = mean_squared_error(target_qsa, predicted_qsa)\n",
    "\n",
    "        if abs(loss - prev_loss) < tolerance:\n",
    "            print('Convergence reached after {} episode'.format(c_episode))\n",
    "            print('Loss difference: ', abs(loss - prev_loss))\n",
    "            break\n",
    "\n",
    "        prev_loss = loss\n",
    "\n",
    "    c_episode += batch_size\n",
    "\n",
    "    loss_values[t] = loss\n",
    "    print('Loss: ', loss)\n"
   ]
  },
  {
   "cell_type": "code",
   "execution_count": 201,
   "metadata": {},
   "outputs": [],
   "source": [
    "#online greedy testing parameters\n",
    "episode_count = 100\n",
    "q_agent = q_logreg\n",
    "\n",
    "#Offline training using expert data on a policy network model (supervised)\n",
    "env = gym.make('CartPole-v1', render_mode='rgb_array')\n",
    "#use encoder to for Fitted Q-learning and discretize the state space\n",
    "oh = OneHotFA(env, bins)\n",
    "\n",
    "# Initialize a table to count the rewards for each episode\n",
    "rewards = np.zeros(episode_count)\n",
    "# Initialize a table to count the number of steps for each episode\n",
    "steps = np.zeros(episode_count)\n",
    "\n",
    "# Loop over episodes\n",
    "for ep in range(episode_count):\n",
    "    # initialize state and action for current episode\n",
    "    state, info = env.reset() \n",
    "    state_discrete, state_index = oh.discretize_state(state)\n",
    "    truncated = False\n",
    "    terminated = False\n",
    "\n",
    "    # Loop over time steps within the episode\n",
    "    while not (terminated or truncated):\n",
    "\n",
    "        # Choose the next action using greedy policy\n",
    "        action = epsilon_greedy(q_agent, state_discrete, num_actions=num_actions, epsilon=0.0)\n",
    "        # Take the chosen action and observe the next state and reward\n",
    "        next_state, reward, terminated, truncated, info = env.step(action)\n",
    "        # Discretize the next state\n",
    "        next_state_discrete, next_state_index = oh.discretize_state(next_state)\n",
    "\n",
    "        # Update the state\n",
    "        state_discrete = next_state_discrete\n",
    "\n",
    "        # store the total reward for each episode\n",
    "        rewards[ep] += reward * (gamma ** steps[ep])\n",
    "\n",
    "        # store the number of steps for each episode\n",
    "        steps[ep] += 1\n",
    "\n",
    "        env.render()\n",
    "\n",
    "\n",
    "#save the rewards for each episode\n",
    "rewards_fq_ac = rewards\n",
    "\n",
    "#close the environment\n",
    "env.close()"
   ]
  },
  {
   "cell_type": "code",
   "execution_count": 202,
   "metadata": {},
   "outputs": [
    {
     "data": {
      "image/png": "[encoded data removed]",
      "text/plain": [
       "<Figure size 720x360 with 1 Axes>"
      ]
     },
     "metadata": {
      "needs_background": "light"
     },
     "output_type": "display_data"
    }
   ],
   "source": [
    "#plot and label the curve with mean over all experiments for each episode for greedy policy for Fitted Q-learning on AC data\n",
    "plt.figure(figsize=(10, 5))\n",
    "plt.plot(rewards_fq_ac, label='Fitted Q-learning returns')\n",
    "plt.xlabel('Episode')\n",
    "plt.ylabel('Average Return per experiment')\n",
    "plt.title('Fitted Q-learning on AC data in 100 episodes')\n",
    "plt.legend()\n",
    "plt.grid()\n",
    "plt.show()"
   ]
  },
  {
   "attachments": {},
   "cell_type": "markdown",
   "metadata": {},
   "source": [
    "### Fitted Q-learning with linear FA Discrete Binned States (PyTorch) (runs through all 9 data sets)"
   ]
  },
  {
   "cell_type": "code",
   "execution_count": 40,
   "metadata": {},
   "outputs": [],
   "source": [
    "#define function approximator\n",
    "import torch\n",
    "import torch.nn as nn\n",
    "import torch.optim as optim\n",
    "\n",
    "# Define the neural network\n",
    "class Q_Net(nn.Module):\n",
    "    def __init__(self, state_size, action_size):\n",
    "        super(Q_Net, self).__init__()\n",
    "        self.linear = nn.Linear(state_size, action_size)\n",
    "        nn.init.uniform_(self.linear.weight, a=-0.001, b=0.001)\n",
    "\n",
    "    def forward(self, x):\n",
    "        out = self.linear(x)\n",
    "        return torch.sigmoid(out)\n",
    "        #return out\n",
    "\n",
    "# Define the hyperparameters\n",
    "learning_rate = 0.001\n",
    "tolerance = 1e-5\n",
    "gamma = 0.99\n"
   ]
  },
  {
   "cell_type": "code",
   "execution_count": 42,
   "metadata": {},
   "outputs": [
    {
     "name": "stderr",
     "output_type": "stream",
     "text": [
      " 20%|██        | 1/5 [00:07<00:28,  7.10s/it]"
     ]
    },
    {
     "name": "stdout",
     "output_type": "stream",
     "text": [
      "Loss:  0.49606090784072876\n"
     ]
    },
    {
     "name": "stderr",
     "output_type": "stream",
     "text": [
      " 40%|████      | 2/5 [00:14<00:22,  7.36s/it]"
     ]
    },
    {
     "name": "stdout",
     "output_type": "stream",
     "text": [
      "Loss:  0.28303566575050354\n"
     ]
    },
    {
     "name": "stderr",
     "output_type": "stream",
     "text": [
      " 60%|██████    | 3/5 [00:21<00:14,  7.12s/it]"
     ]
    },
    {
     "name": "stdout",
     "output_type": "stream",
     "text": [
      "Loss:  0.06140996143221855\n"
     ]
    },
    {
     "name": "stderr",
     "output_type": "stream",
     "text": [
      " 60%|██████    | 3/5 [00:29<00:19,  9.72s/it]\n"
     ]
    },
    {
     "name": "stdout",
     "output_type": "stream",
     "text": [
      "Loss is negative\n"
     ]
    },
    {
     "name": "stderr",
     "output_type": "stream",
     "text": [
      " 20%|██        | 1/5 [00:00<00:02,  1.72it/s]"
     ]
    },
    {
     "name": "stdout",
     "output_type": "stream",
     "text": [
      "Loss:  0.5086662769317627\n"
     ]
    },
    {
     "name": "stderr",
     "output_type": "stream",
     "text": [
      " 40%|████      | 2/5 [00:01<00:01,  1.55it/s]"
     ]
    },
    {
     "name": "stdout",
     "output_type": "stream",
     "text": [
      "Loss:  0.3200504779815674\n"
     ]
    },
    {
     "name": "stderr",
     "output_type": "stream",
     "text": [
      " 60%|██████    | 3/5 [00:01<00:01,  1.68it/s]"
     ]
    },
    {
     "name": "stdout",
     "output_type": "stream",
     "text": [
      "Loss:  0.1321546733379364\n",
      "Convergence reached after 0 episode\n"
     ]
    },
    {
     "name": "stderr",
     "output_type": "stream",
     "text": [
      " 80%|████████  | 4/5 [00:02<00:00,  2.25it/s]"
     ]
    },
    {
     "name": "stdout",
     "output_type": "stream",
     "text": [
      "Loss difference:  1.1175870895385742e-06\n",
      "Loss:  0.06372662633657455\n"
     ]
    },
    {
     "name": "stderr",
     "output_type": "stream",
     "text": [
      " 80%|████████  | 4/5 [00:02<00:00,  1.56it/s]\n"
     ]
    },
    {
     "name": "stdout",
     "output_type": "stream",
     "text": [
      "Loss is negative\n"
     ]
    },
    {
     "name": "stderr",
     "output_type": "stream",
     "text": [
      " 20%|██        | 1/5 [00:04<00:17,  4.25s/it]"
     ]
    },
    {
     "name": "stdout",
     "output_type": "stream",
     "text": [
      "Loss:  0.5214849710464478\n"
     ]
    },
    {
     "name": "stderr",
     "output_type": "stream",
     "text": [
      " 40%|████      | 2/5 [00:08<00:12,  4.01s/it]"
     ]
    },
    {
     "name": "stdout",
     "output_type": "stream",
     "text": [
      "Loss:  0.34406578540802\n"
     ]
    },
    {
     "name": "stderr",
     "output_type": "stream",
     "text": [
      " 60%|██████    | 3/5 [00:12<00:08,  4.08s/it]"
     ]
    },
    {
     "name": "stdout",
     "output_type": "stream",
     "text": [
      "Loss:  0.16098859906196594\n"
     ]
    },
    {
     "name": "stderr",
     "output_type": "stream",
     "text": [
      " 60%|██████    | 3/5 [00:16<00:10,  5.36s/it]\n"
     ]
    },
    {
     "name": "stdout",
     "output_type": "stream",
     "text": [
      "Loss is negative\n"
     ]
    },
    {
     "name": "stderr",
     "output_type": "stream",
     "text": [
      " 20%|██        | 1/5 [00:18<01:13, 18.46s/it]"
     ]
    },
    {
     "name": "stdout",
     "output_type": "stream",
     "text": [
      "Loss:  0.17470179498195648\n"
     ]
    },
    {
     "name": "stderr",
     "output_type": "stream",
     "text": [
      " 20%|██        | 1/5 [00:37<02:28, 37.16s/it]\n"
     ]
    },
    {
     "name": "stdout",
     "output_type": "stream",
     "text": [
      "Loss is negative\n"
     ]
    },
    {
     "name": "stderr",
     "output_type": "stream",
     "text": [
      " 20%|██        | 1/5 [00:01<00:06,  1.59s/it]"
     ]
    },
    {
     "name": "stdout",
     "output_type": "stream",
     "text": [
      "Loss:  0.22412948310375214\n"
     ]
    },
    {
     "name": "stderr",
     "output_type": "stream",
     "text": [
      " 20%|██        | 1/5 [00:03<00:15,  3.78s/it]\n"
     ]
    },
    {
     "name": "stdout",
     "output_type": "stream",
     "text": [
      "Loss is negative\n"
     ]
    },
    {
     "name": "stderr",
     "output_type": "stream",
     "text": [
      " 20%|██        | 1/5 [00:10<00:42, 10.62s/it]"
     ]
    },
    {
     "name": "stdout",
     "output_type": "stream",
     "text": [
      "Loss:  0.24555860459804535\n"
     ]
    },
    {
     "name": "stderr",
     "output_type": "stream",
     "text": [
      " 20%|██        | 1/5 [00:21<01:27, 21.80s/it]\n"
     ]
    },
    {
     "name": "stdout",
     "output_type": "stream",
     "text": [
      "Loss is negative\n"
     ]
    },
    {
     "name": "stderr",
     "output_type": "stream",
     "text": [
      "  0%|          | 0/5 [00:36<?, ?it/s]\n"
     ]
    },
    {
     "name": "stdout",
     "output_type": "stream",
     "text": [
      "Loss is negative\n"
     ]
    },
    {
     "name": "stderr",
     "output_type": "stream",
     "text": [
      "  0%|          | 0/5 [00:03<?, ?it/s]\n"
     ]
    },
    {
     "name": "stdout",
     "output_type": "stream",
     "text": [
      "Loss is negative\n"
     ]
    },
    {
     "name": "stderr",
     "output_type": "stream",
     "text": [
      "  0%|          | 0/5 [00:21<?, ?it/s]"
     ]
    },
    {
     "name": "stdout",
     "output_type": "stream",
     "text": [
      "Loss is negative\n"
     ]
    },
    {
     "name": "stderr",
     "output_type": "stream",
     "text": [
      "\n"
     ]
    }
   ],
   "source": [
    "#batch training for all agent in fitted Q-learning\n",
    "\n",
    "#initialize an array to store all 9 experiment agents\n",
    "q_nets = np.zeros(9, dtype=object)\n",
    "agent_index = 0\n",
    "\n",
    "#loop through the selected data lengths\n",
    "for selected_data in range(len(episode_cs)):\n",
    "    #loop through the selected methods\n",
    "    for selected_method in range(len(expert_data_all_discrete)):\n",
    "\n",
    "        q_net = Q_Net(num_features, num_actions)\n",
    "        #criterion = nn.MSELoss()\n",
    "        criterion = nn.BCELoss()\n",
    "        optimizer = optim.Adam(q_net.parameters(), lr=learning_rate)\n",
    "\n",
    "        s = 1 #batch split factor\n",
    "        batch_size = int(episode_cs[selected_data] / s)\n",
    "        k = 5\n",
    "        K_iterations = int(episode_cs[selected_data]/batch_size) * k\n",
    "        #print(\"Max iterations: \", K_iterations)\n",
    "\n",
    "        # Loop over K_iterations\n",
    "        c_episode = 0\n",
    "\n",
    "        #array to store loss values\n",
    "        loss_values = np.zeros(K_iterations)\n",
    "\n",
    "        for t in tqdm(range(K_iterations)):\n",
    "            #check if c_episode is greater than cs_episode, reset c_episode to 0\n",
    "            if c_episode >= episode_cs[0]:\n",
    "                c_episode = 0\n",
    "\n",
    "            # Loop over all episodes in batch and store their ouputs\n",
    "            batch_indices = np.arange(c_episode, min(c_episode+batch_size, expert_data_ac_uf.shape[0]))\n",
    "            #print(batch_indices)\n",
    "\n",
    "            #run until convergence\n",
    "            prev_loss = 0\n",
    "\n",
    "            # Loop over episodes in selected batch indices\n",
    "            expert_batch = expert_data_all_discrete[selected_method][batch_indices]\n",
    "            \n",
    "            # Loop over time steps within the episode (load the batches of data)\n",
    "            for expert_data in expert_batch:\n",
    "                \n",
    "                # print(expert_data.shape)\n",
    "                # print(expert_data[:, 0].shape)\n",
    "                # print(expert_data[:, 0])\n",
    "                \n",
    "                states = torch.stack([torch.from_numpy(a) for a in expert_data[:, 0]]).float()\n",
    "                actions = torch.stack([torch.from_numpy(a) for a in expert_data[:, 1]]).long()\n",
    "                next_inputs = torch.stack([torch.from_numpy(a) for a in expert_data[:, 2]]).float()\n",
    "                rewards = torch.stack([torch.from_numpy(a) for a in expert_data[:, 3]]).float()\n",
    "                step_size = expert_data.shape[0]\n",
    "\n",
    "\n",
    "                # store the target Q-value for the current batch\n",
    "                with torch.no_grad():\n",
    "                    target_qsa = rewards + gamma * torch.max(q_net(next_inputs), dim=1)[0]\n",
    "\n",
    "                # Compute the predicted Q-values for the current state-action pairs\n",
    "                predicted_qs = q_net(states)\n",
    "                #extract the predicted Q-value for the action taken\n",
    "                predicted_qsa = predicted_qs[range(step_size), actions]\n",
    "\n",
    "                #clamp predicted probabilities between 1e-7 and 1-1e-7\n",
    "                #predicted_qsa = torch.clamp(predicted_qsa, 1e-7, 1-1e-7)\n",
    "\n",
    "                # Compute the loss and update the neural network\n",
    "                optimizer.zero_grad()\n",
    "                loss = criterion(predicted_qsa, target_qsa)\n",
    "                loss.backward()\n",
    "                optimizer.step()\n",
    "\n",
    "                # Check for convergence\n",
    "                if abs(loss - prev_loss) < tolerance:\n",
    "                    print('Convergence reached after {} episode'.format(c_episode))\n",
    "                    print('Loss difference: ', abs(loss.item() - prev_loss.item()))\n",
    "                    break\n",
    "                \n",
    "                prev_loss = loss\n",
    "\n",
    "            #exit if loss is negative\n",
    "            if loss.item() < 0:\n",
    "                print('Loss is negative')\n",
    "                break\n",
    "\n",
    "            c_episode += batch_size\n",
    "\n",
    "            #store the loss values\n",
    "            loss_values[t] = loss.item()\n",
    "            print('Loss: ', loss.item())\n",
    "\n",
    "        #save the trained agent\n",
    "        q_nets[agent_index] = q_net\n",
    "        agent_index += 1"
   ]
  },
  {
   "attachments": {},
   "cell_type": "markdown",
   "metadata": {},
   "source": [
    "#### Greedy test run"
   ]
  },
  {
   "cell_type": "code",
   "execution_count": 43,
   "metadata": {},
   "outputs": [],
   "source": [
    "#online greedy testing parameters\n",
    "episode_count = 100\n",
    "\n",
    "#initialize an array to store the rewards for each episode for each agent\n",
    "rewards_fq_ac = np.zeros((9, episode_count))\n",
    "\n",
    "#loop through each agent\n",
    "for i, q_agent in enumerate(q_nets):\n",
    "\n",
    "    #Offline training using expert data on a policy network model (supervised)\n",
    "    env = gym.make('CartPole-v1', render_mode='rgb_array')\n",
    "    #use encoder to for Fitted Q-learning and discretize the state space\n",
    "    oh = OneHotFA(env, bins)\n",
    "\n",
    "    # Initialize a table to count the rewards for each episode\n",
    "    rewards = np.zeros(episode_count)\n",
    "    # Initialize a table to count the number of steps for each episode\n",
    "    steps = np.zeros(episode_count)\n",
    "\n",
    "    # Loop over episodes\n",
    "    for ep in range(episode_count):\n",
    "        # initialize state and action for current episode\n",
    "        state, info = env.reset() \n",
    "        state_discrete, state_index = oh.discretize_state(state)\n",
    "        truncated = False\n",
    "        terminated = False\n",
    "\n",
    "        # Loop over time steps within the episode\n",
    "        while not (terminated or truncated):\n",
    "\n",
    "            # Choose the next action using greedy policy\n",
    "            action = epsilon_greedy(q_agent, state_discrete, num_actions=num_actions, epsilon=0.0)\n",
    "            # Take the chosen action and observe the next state and reward\n",
    "            next_state, reward, terminated, truncated, info = env.step(action)\n",
    "            # Discretize the next state\n",
    "            next_state_discrete, next_state_index = oh.discretize_state(next_state)\n",
    "\n",
    "            # Update the state\n",
    "            state_discrete = next_state_discrete\n",
    "\n",
    "            # store the total reward for each episode\n",
    "            rewards[ep] += reward * (gamma ** steps[ep])\n",
    "\n",
    "            # store the number of steps for each episode\n",
    "            steps[ep] += 1\n",
    "\n",
    "            env.render()\n",
    "\n",
    "\n",
    "    #save the rewards for each episode for each agent\n",
    "    rewards_fq_ac[i] = rewards\n",
    "\n",
    "#close the environment\n",
    "env.close()"
   ]
  },
  {
   "cell_type": "code",
   "execution_count": 45,
   "metadata": {},
   "outputs": [
    {
     "data": {
      "image/png": "[encoded data removed]",
      "text/plain": [
       "<Figure size 432x288 with 1 Axes>"
      ]
     },
     "metadata": {
      "needs_background": "light"
     },
     "output_type": "display_data"
    },
    {
     "data": {
      "image/png": "[encoded data removed]",
      "text/plain": [
       "<Figure size 432x288 with 1 Axes>"
      ]
     },
     "metadata": {
      "needs_background": "light"
     },
     "output_type": "display_data"
    },
    {
     "data": {
      "image/png": "[encoded data removed]",
      "text/plain": [
       "<Figure size 432x288 with 1 Axes>"
      ]
     },
     "metadata": {
      "needs_background": "light"
     },
     "output_type": "display_data"
    }
   ],
   "source": [
    "#calculate the average return of the expert ac nn and uf random policy\n",
    "mean_rewards_ac_nn = np.mean(np.mean(rewards_ac_nn[:,:], axis=0))\n",
    "mean_rewards_uf = np.mean(np.mean(rewards_uf[:,:], axis=0))\n",
    "\n",
    "#caluclate the mean and standard deviation of the rewards for each agent data method for each data size\n",
    "#data size 100\n",
    "mean_rewards_fq_ac_mac_d1 = np.mean(rewards_fq_ac[0])\n",
    "std_rewards_fq_ac_mac_d1 = np.std(rewards_fq_ac[0])\n",
    "mean_rewards_fq_ac_muf_d1 = np.mean(rewards_fq_ac[1])\n",
    "std_rewards_fq_ac_muf_d1 = np.std(rewards_fq_ac[1])\n",
    "mean_rewards_fq_ac_macuf_d1 = np.mean(rewards_fq_ac[2])\n",
    "std_rewards_fq_ac_macuf_d1 = np.std(rewards_fq_ac[2])\n",
    "#data size 250\n",
    "mean_rewards_fq_ac_mac_d2 = np.mean(rewards_fq_ac[3])\n",
    "std_rewards_fq_ac_mac_d2 = np.std(rewards_fq_ac[3])\n",
    "mean_rewards_fq_ac_muf_d2 = np.mean(rewards_fq_ac[4])\n",
    "std_rewards_fq_ac_muf_d2 = np.std(rewards_fq_ac[4])\n",
    "mean_rewards_fq_ac_macuf_d2 = np.mean(rewards_fq_ac[5])\n",
    "std_rewards_fq_ac_macuf_d2 = np.std(rewards_fq_ac[5])\n",
    "#data size 500\n",
    "mean_rewards_fq_ac_mac_d3 = np.mean(rewards_fq_ac[6])\n",
    "std_rewards_fq_ac_mac_d3 = np.std(rewards_fq_ac[6])\n",
    "mean_rewards_fq_ac_muf_d3 = np.mean(rewards_fq_ac[7])\n",
    "std_rewards_fq_ac_muf_d3 = np.std(rewards_fq_ac[7])\n",
    "mean_rewards_fq_ac_macuf_d3 = np.mean(rewards_fq_ac[8])\n",
    "std_rewards_fq_ac_macuf_d3 = np.std(rewards_fq_ac[8])\n",
    "\n",
    "\n",
    "# for data size 100 plot in a bar chart the mean and standard deviation of the rewards for each agent data method\n",
    "x_labels = ['FQ-MAC', 'FQ-MUF', 'FQ-MACUF']\n",
    "means = [mean_rewards_fq_ac_mac_d1, mean_rewards_fq_ac_muf_d1, mean_rewards_fq_ac_macuf_d1]\n",
    "stds = [std_rewards_fq_ac_mac_d1, std_rewards_fq_ac_muf_d1, std_rewards_fq_ac_macuf_d1]\n",
    "\n",
    "fig, ax = plt.subplots()\n",
    "ax.bar(x_labels, means, yerr=stds, align='center', alpha=0.5, ecolor='black', capsize=10)\n",
    "ax.set_ylabel('Returns')\n",
    "ax.set_title('Mean Returns for Each Agent Data Method for Data Size 100')\n",
    "ax.yaxis.grid(True)\n",
    "\n",
    "# draw horizontal line at the mean of the expert data and uf random policy\n",
    "plt.axhline(y=mean_rewards_ac_nn, color='r', linestyle='-', label='AC NN Expert Policy')\n",
    "plt.axhline(y=mean_rewards_uf, color='g', linestyle='-', label='UF Random Policy')\n",
    "\n",
    "# Display the plot\n",
    "plt.tight_layout()\n",
    "plt.legend()\n",
    "plt.show()\n",
    "\n",
    "\n",
    "\n",
    "# for data size 250 plot in a bar chart the mean and standard deviation of the rewards for each agent data method\n",
    "x_labels = ['FQ-MAC', 'FQ-MUF', 'FQ-MACUF']\n",
    "means = [mean_rewards_fq_ac_mac_d2, mean_rewards_fq_ac_muf_d2, mean_rewards_fq_ac_macuf_d2]\n",
    "stds = [std_rewards_fq_ac_mac_d2, std_rewards_fq_ac_muf_d2, std_rewards_fq_ac_macuf_d2]\n",
    "\n",
    "fig, ax = plt.subplots()\n",
    "ax.bar(x_labels, means, yerr=stds, align='center', alpha=0.5, ecolor='black', capsize=10)\n",
    "ax.set_ylabel('Returns')\n",
    "ax.set_title('Mean Returns for Each Agent Data Method for Data Size 250')\n",
    "ax.yaxis.grid(True)\n",
    "\n",
    "# draw horizontal line at the mean of the expert data and uf random policy\n",
    "plt.axhline(y=mean_rewards_ac_nn, color='r', linestyle='-', label='AC NN Expert Policy')\n",
    "plt.axhline(y=mean_rewards_uf, color='g', linestyle='-', label='UF Random Policy')\n",
    "\n",
    "\n",
    "# Display the plot\n",
    "plt.tight_layout()\n",
    "plt.legend()\n",
    "plt.show()\n",
    "\n",
    "\n",
    "\n",
    "\n",
    "\n",
    "# for data size 250 plot in a bar chart the mean and standard deviation of the rewards for each agent data method\n",
    "x_labels = ['FQ-MAC', 'FQ-MUF', 'FQ-MACUF']\n",
    "means = [mean_rewards_fq_ac_mac_d3, mean_rewards_fq_ac_muf_d3, mean_rewards_fq_ac_macuf_d3]\n",
    "stds = [std_rewards_fq_ac_mac_d3, std_rewards_fq_ac_muf_d3, std_rewards_fq_ac_macuf_d3]\n",
    "\n",
    "fig, ax = plt.subplots()\n",
    "ax.bar(x_labels, means, yerr=stds, align='center', alpha=0.5, ecolor='black', capsize=10)\n",
    "ax.set_ylabel('Returns')\n",
    "ax.set_title('Mean Returns for Each Agent Data Method for Data Size 500')\n",
    "ax.yaxis.grid(True)\n",
    "\n",
    "# draw horizontal line at the mean of the expert data and uf random policy\n",
    "plt.axhline(y=mean_rewards_ac_nn, color='r', linestyle='-', label='AC NN Expert Policy')\n",
    "plt.axhline(y=mean_rewards_uf, color='g', linestyle='-', label='UF Random Policy')\n",
    "\n",
    "\n",
    "# Display the plot\n",
    "plt.tight_layout()\n",
    "plt.legend()\n",
    "plt.show()\n"
   ]
  },
  {
   "cell_type": "code",
   "execution_count": null,
   "metadata": {},
   "outputs": [],
   "source": [
    "#train using another learning rate\n",
    "learning_rate = 0.0001"
   ]
  },
  {
   "attachments": {},
   "cell_type": "markdown",
   "metadata": {},
   "source": [
    "## Offline RL on CartPole v1 (with multi-layer perceptron) Offline Training"
   ]
  },
  {
   "cell_type": "code",
   "execution_count": null,
   "metadata": {},
   "outputs": [],
   "source": [
    "#TODO Code similar to above\n",
    "#Modify class A2C(nn.Module) using multiple layers for state (non-binned) actor/critic input and action/value output "
   ]
  },
  {
   "attachments": {},
   "cell_type": "markdown",
   "metadata": {},
   "source": [
    "## (CartPole State Discretization Method) Sample CartPole environment velocities to calculate the bins discretization"
   ]
  },
  {
   "cell_type": "code",
   "execution_count": null,
   "metadata": {},
   "outputs": [],
   "source": [
    "env = gym.make('CartPole-v1', render_mode='rgb_array')\n",
    "\n",
    "num_episodes = 100\n",
    "num_runs = 10\n",
    "seeds = [0, 137, 2, 3, 4, 42, 6, 7, 8, 9]\n",
    "\n",
    "cart_velocities = []\n",
    "pole_velocities = []\n",
    "for run in range(num_runs):\n",
    "    print(\"Run {}\".format(run))\n",
    "    cart_evm = []\n",
    "    pole_evm = []\n",
    "    for episode in range(num_episodes):\n",
    "        obs, info = env.reset(seed=seeds[run])\n",
    "        truncated = False\n",
    "        terminated = False\n",
    "        cart_ev = []\n",
    "        pole_ev = []\n",
    "        while not (truncated or terminated):\n",
    "            action = env.action_space.sample()\n",
    "            obs, reward, terminated, truncated, info = env.step(action)\n",
    "            cart_ev.append(obs[1])\n",
    "            pole_ev.append(obs[3])\n",
    "            env.render()\n",
    "\n",
    "        cart_evm.append(np.mean(cart_ev))\n",
    "        pole_evm.append(np.mean(pole_ev))\n",
    "\n",
    "    cart_velocities.append(cart_evm)\n",
    "    pole_velocities.append(pole_evm)\n",
    "\n",
    "cart_velocities = np.array(cart_velocities)\n",
    "pole_velocities = np.array(pole_velocities)\n",
    "\n",
    "print(\"Mean velocity: {:.2f}\".format(np.mean(cart_velocities)))\n",
    "print(\"Variance of velocity: {:.2f}\".format(np.var(cart_velocities)))\n",
    "print(\"Minimum velocity: {:.2f}\".format(np.min(cart_velocities)))\n",
    "print(\"Maximum velocity: {:.2f}\".format(np.max(cart_velocities)))\n"
   ]
  },
  {
   "cell_type": "code",
   "execution_count": null,
   "metadata": {},
   "outputs": [],
   "source": [
    "# plot the histogram of the cart velocities \n",
    "c_mean_velocity = np.mean(cart_velocities)\n",
    "c_std_velocity = np.std(cart_velocities)\n",
    "\n",
    "# plot the histogram of the pole velocities\n",
    "p_mean_velocity = np.mean(pole_velocities)\n",
    "p_std_velocity = np.std(pole_velocities)\n",
    "\n",
    "# Define bins based on normal distribution of velocities for cart\n",
    "bins_c = [-np.inf]\n",
    "for i in range(1, 10):\n",
    "    bin_start = (i - 5) * c_std_velocity/2\n",
    "    bins_c.append(bin_start)\n",
    "bins_c.append(np.inf)\n",
    "# Create histogram of velocities\n",
    "hist, bin_edges = np.histogram(cart_velocities, bins=bins_c)\n",
    "print(\"Histogram of velocities:\")\n",
    "for i in range(len(hist)):\n",
    "    print(\"[{:.2f}, {:.2f}): {}\".format(bin_edges[i], bin_edges[i+1], hist[i]))\n",
    "\n",
    "# Define bins based on normal distribution of velocities for pole\n",
    "bins = [-np.inf]\n",
    "for i in range(1, 10):\n",
    "    bin_start = (i - 5) * p_std_velocity/2\n",
    "    bins.append(bin_start)\n",
    "bins.append(np.inf)\n",
    "# Create histogram of velocities\n",
    "hist, bin_edges = np.histogram(pole_velocities, bins=bins)\n",
    "print(\"Histogram of velocities:\")\n",
    "for i in range(len(hist)):\n",
    "    print(\"[{:.2f}, {:.2f}): {}\".format(bin_edges[i], bin_edges[i+1], hist[i]))\n",
    "\n",
    "print(bins_c)\n",
    "print(bins)"
   ]
  }
 ],
 "metadata": {
  "kernelspec": {
   "display_name": "torch_gpu",
   "language": "python",
   "name": "python3"
  },
  "language_info": {
   "codemirror_mode": {
    "name": "ipython",
    "version": 3
   },
   "file_extension": ".py",
   "mimetype": "text/x-python",
   "name": "python",
   "nbconvert_exporter": "python",
   "pygments_lexer": "ipython3",
   "version": "3.7.11"
  },
  "orig_nbformat": 4,
  "vscode": {
   "interpreter": {
    "hash": "775bfc7a5e8c2cdebb61b645c8236fa4832eb1cd236206b01ca96f1971486835"
   }
  }
 },
 "nbformat": 4,
 "nbformat_minor": 2
}
